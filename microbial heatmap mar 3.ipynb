{
 "cells": [
  {
   "cell_type": "code",
   "execution_count": 1,
   "id": "ceb8df15",
   "metadata": {},
   "outputs": [],
   "source": [
    "import pandas as pd\n",
    "import numpy as np \n",
    "import seaborn as sns \n",
    "import matplotlib.pyplot as plt\n",
    "from ete3 import Tree\n",
    "import random, os, time\n",
    "from ete3 import NCBITaxa\n",
    "import unicodedata\n",
    "from matplotlib.pyplot import figure\n",
    "import operator"
   ]
  },
  {
   "cell_type": "code",
   "execution_count": 2,
   "id": "09bb17a6",
   "metadata": {},
   "outputs": [],
   "source": [
    "%config Completer.use_jedi = False"
   ]
  },
  {
   "cell_type": "code",
   "execution_count": 4,
   "id": "dbb2b2da",
   "metadata": {},
   "outputs": [],
   "source": [
    "data=pd.read_excel('../Plastic database_Final_Ankita.xlsx')"
   ]
  },
  {
   "cell_type": "code",
   "execution_count": 5,
   "id": "8f94552a",
   "metadata": {},
   "outputs": [],
   "source": [
    "df=pd.DataFrame(data)"
   ]
  },
  {
   "cell_type": "code",
   "execution_count": 6,
   "id": "e89ea422",
   "metadata": {},
   "outputs": [
    {
     "data": {
      "text/plain": [
       "(1687, 16)"
      ]
     },
     "execution_count": 6,
     "metadata": {},
     "output_type": "execute_result"
    }
   ],
   "source": [
    "df.shape"
   ]
  },
  {
   "cell_type": "code",
   "execution_count": 7,
   "id": "01cef7b1",
   "metadata": {},
   "outputs": [],
   "source": [
    "df_org=df[['doi','Microorganism_abb','Plastic_abb.']].drop_duplicates()"
   ]
  },
  {
   "cell_type": "code",
   "execution_count": 8,
   "id": "2f193ea0",
   "metadata": {},
   "outputs": [
    {
     "data": {
      "text/plain": [
       "(1527, 3)"
      ]
     },
     "execution_count": 8,
     "metadata": {},
     "output_type": "execute_result"
    }
   ],
   "source": [
    "df_org.shape"
   ]
  },
  {
   "cell_type": "code",
   "execution_count": 9,
   "id": "2260f580",
   "metadata": {},
   "outputs": [],
   "source": [
    "ncbi = NCBITaxa()"
   ]
  },
  {
   "cell_type": "code",
   "execution_count": 10,
   "id": "c9620051",
   "metadata": {},
   "outputs": [],
   "source": [
    "micro={}\n",
    "count=0\n",
    "for index,row in df_org.iterrows():\n",
    "    if len(ncbi.get_name_translator([row['Microorganism_abb']]).items())==1:\n",
    "        micro.update({list(ncbi.get_name_translator([row['Microorganism_abb']]).items())[0][0]:list(ncbi.get_name_translator([row['Microorganism_abb']]).items())[0][1][0]})\n",
    "        count+=1 "
   ]
  },
  {
   "cell_type": "code",
   "execution_count": 11,
   "id": "28dff93c",
   "metadata": {},
   "outputs": [
    {
     "data": {
      "text/plain": [
       "1494"
      ]
     },
     "execution_count": 11,
     "metadata": {},
     "output_type": "execute_result"
    }
   ],
   "source": [
    "count"
   ]
  },
  {
   "cell_type": "markdown",
   "id": "d9847631",
   "metadata": {},
   "source": [
    "## add taxa id to dataframe "
   ]
  },
  {
   "cell_type": "code",
   "execution_count": 12,
   "id": "ee5c36a6",
   "metadata": {},
   "outputs": [],
   "source": [
    "taxa=[]\n",
    "for index,row in df_org.iterrows():\n",
    "    try:\n",
    "        taxa.append(micro[row['Microorganism_abb']])\n",
    "    except:\n",
    "        taxa.append(row['Microorganism_abb'])"
   ]
  },
  {
   "cell_type": "code",
   "execution_count": 13,
   "id": "e2abf7dd",
   "metadata": {},
   "outputs": [],
   "source": [
    "df_org['taxa']=taxa"
   ]
  },
  {
   "cell_type": "code",
   "execution_count": 14,
   "id": "62f51ab0",
   "metadata": {},
   "outputs": [],
   "source": [
    "df_org=df_org.loc[~(df_org['taxa']=='-')]"
   ]
  },
  {
   "cell_type": "code",
   "execution_count": 15,
   "id": "c739e946",
   "metadata": {},
   "outputs": [],
   "source": [
    "df_org=df_org.loc[~(df['Microorganism_abb']=='Uncultured bacterium')]"
   ]
  },
  {
   "cell_type": "code",
   "execution_count": 16,
   "id": "4800aca8",
   "metadata": {},
   "outputs": [],
   "source": [
    "df_org=df_org.loc[~(df['Microorganism_abb']=='uncultured fungus')]"
   ]
  },
  {
   "cell_type": "code",
   "execution_count": 17,
   "id": "bd442653",
   "metadata": {},
   "outputs": [],
   "source": [
    "df_org=df_org.loc[~(df['Microorganism_abb']=='Gut Microbiome')]"
   ]
  },
  {
   "cell_type": "code",
   "execution_count": 18,
   "id": "1af58bef",
   "metadata": {},
   "outputs": [
    {
     "data": {
      "text/plain": [
       "(1477, 4)"
      ]
     },
     "execution_count": 18,
     "metadata": {},
     "output_type": "execute_result"
    }
   ],
   "source": [
    "df_org.shape"
   ]
  },
  {
   "cell_type": "code",
   "execution_count": 19,
   "id": "3fa6a4a5",
   "metadata": {},
   "outputs": [],
   "source": [
    "count=[]\n",
    "for taxa in df_org['taxa']:\n",
    "    #print(taxa)\n",
    "    kingdom=[]\n",
    "    try:\n",
    "        for key,value in ncbi.get_rank(ncbi.get_lineage(taxa)).items():\n",
    "            if value=='superkingdom':\n",
    "                kingdom.append(key)\n",
    "    except:\n",
    "        print(taxa)\n",
    "    kingdom.append(taxa)\n",
    "    count.append(kingdom)"
   ]
  },
  {
   "cell_type": "code",
   "execution_count": 20,
   "id": "86a38d4d",
   "metadata": {},
   "outputs": [
    {
     "data": {
      "text/plain": [
       "{2, 2759}"
      ]
     },
     "execution_count": 20,
     "metadata": {},
     "output_type": "execute_result"
    }
   ],
   "source": [
    "set([i[0] for i in count])"
   ]
  },
  {
   "cell_type": "markdown",
   "id": "07fcb0ec",
   "metadata": {},
   "source": [
    "## kingdom Bacteria"
   ]
  },
  {
   "cell_type": "code",
   "execution_count": 21,
   "id": "36463463",
   "metadata": {},
   "outputs": [],
   "source": [
    "bac_taxa=list(set([i[1] for i in count if i[0]==2]))"
   ]
  },
  {
   "cell_type": "code",
   "execution_count": 22,
   "id": "66738921",
   "metadata": {},
   "outputs": [],
   "source": [
    "df_org_bac=df_org.loc[df_org['taxa'].isin(bac_taxa)]"
   ]
  },
  {
   "cell_type": "code",
   "execution_count": 23,
   "id": "25f7f17f",
   "metadata": {},
   "outputs": [
    {
     "data": {
      "text/plain": [
       "(969, 4)"
      ]
     },
     "execution_count": 23,
     "metadata": {},
     "output_type": "execute_result"
    }
   ],
   "source": [
    "df_org_bac.shape"
   ]
  },
  {
   "cell_type": "code",
   "execution_count": 24,
   "id": "2818e723",
   "metadata": {},
   "outputs": [],
   "source": [
    "bcount=[]\n",
    "btaxa=[]\n",
    "for taxa in df_org_bac['taxa']:\n",
    "    #print(taxa)\n",
    "    genus=[]\n",
    "    try:\n",
    "        for key,value in ncbi.get_rank(ncbi.get_lineage(taxa)).items():\n",
    "            if value=='genus':\n",
    "                genus.append(key)\n",
    "                btaxa.append(taxa)\n",
    "    except:\n",
    "        print(taxa)\n",
    "    genus.append(taxa)\n",
    "    bcount.append(genus)"
   ]
  },
  {
   "cell_type": "code",
   "execution_count": 25,
   "id": "a70a101c",
   "metadata": {},
   "outputs": [
    {
     "data": {
      "text/plain": [
       "[[413882], [413882], [86188]]"
      ]
     },
     "execution_count": 25,
     "metadata": {},
     "output_type": "execute_result"
    }
   ],
   "source": [
    "[i for i in bcount if len(i)==1]"
   ]
  },
  {
   "cell_type": "code",
   "execution_count": 26,
   "id": "002e3677",
   "metadata": {},
   "outputs": [
    {
     "data": {
      "text/plain": [
       "307"
      ]
     },
     "execution_count": 26,
     "metadata": {},
     "output_type": "execute_result"
    }
   ],
   "source": [
    "len(set(bac_taxa))"
   ]
  },
  {
   "cell_type": "code",
   "execution_count": 27,
   "id": "d90e70f8",
   "metadata": {},
   "outputs": [],
   "source": [
    "genus=[]\n",
    "for i in bcount:\n",
    "    if len(i)==2:\n",
    "        genus.append(i[0])\n",
    "    else:\n",
    "        genus.append(0)"
   ]
  },
  {
   "cell_type": "code",
   "execution_count": 28,
   "id": "6497e172",
   "metadata": {},
   "outputs": [
    {
     "name": "stderr",
     "output_type": "stream",
     "text": [
      "/home/sunny/anaconda3/lib/python3.7/site-packages/ipykernel_launcher.py:1: SettingWithCopyWarning: \n",
      "A value is trying to be set on a copy of a slice from a DataFrame.\n",
      "Try using .loc[row_indexer,col_indexer] = value instead\n",
      "\n",
      "See the caveats in the documentation: https://pandas.pydata.org/pandas-docs/stable/user_guide/indexing.html#returning-a-view-versus-a-copy\n",
      "  \"\"\"Entry point for launching an IPython kernel.\n"
     ]
    }
   ],
   "source": [
    "df_org_bac['genus']=genus"
   ]
  },
  {
   "cell_type": "code",
   "execution_count": 29,
   "id": "88eab640",
   "metadata": {},
   "outputs": [
    {
     "data": {
      "text/html": [
       "<div>\n",
       "<style scoped>\n",
       "    .dataframe tbody tr th:only-of-type {\n",
       "        vertical-align: middle;\n",
       "    }\n",
       "\n",
       "    .dataframe tbody tr th {\n",
       "        vertical-align: top;\n",
       "    }\n",
       "\n",
       "    .dataframe thead th {\n",
       "        text-align: right;\n",
       "    }\n",
       "</style>\n",
       "<table border=\"1\" class=\"dataframe\">\n",
       "  <thead>\n",
       "    <tr style=\"text-align: right;\">\n",
       "      <th></th>\n",
       "      <th>doi</th>\n",
       "      <th>Microorganism_abb</th>\n",
       "      <th>Plastic_abb.</th>\n",
       "      <th>taxa</th>\n",
       "      <th>genus</th>\n",
       "    </tr>\n",
       "  </thead>\n",
       "  <tbody>\n",
       "    <tr>\n",
       "      <th>281</th>\n",
       "      <td>10.1128/AEM.02773-17</td>\n",
       "      <td>Polyangium brachysporum</td>\n",
       "      <td>PCL</td>\n",
       "      <td>413882</td>\n",
       "      <td>0</td>\n",
       "    </tr>\n",
       "    <tr>\n",
       "      <th>282</th>\n",
       "      <td>10.1128/AEM.02773-17</td>\n",
       "      <td>Polyangium brachysporum</td>\n",
       "      <td>PET</td>\n",
       "      <td>413882</td>\n",
       "      <td>0</td>\n",
       "    </tr>\n",
       "    <tr>\n",
       "      <th>825</th>\n",
       "      <td>10.1016/j.polymdegradstab.2018.03.023</td>\n",
       "      <td>Pseudomonas geniculata</td>\n",
       "      <td>PLA</td>\n",
       "      <td>86188</td>\n",
       "      <td>0</td>\n",
       "    </tr>\n",
       "  </tbody>\n",
       "</table>\n",
       "</div>"
      ],
      "text/plain": [
       "                                       doi        Microorganism_abb  \\\n",
       "281                   10.1128/AEM.02773-17  Polyangium brachysporum   \n",
       "282                   10.1128/AEM.02773-17  Polyangium brachysporum   \n",
       "825  10.1016/j.polymdegradstab.2018.03.023   Pseudomonas geniculata   \n",
       "\n",
       "    Plastic_abb.    taxa  genus  \n",
       "281          PCL  413882      0  \n",
       "282          PET  413882      0  \n",
       "825          PLA   86188      0  "
      ]
     },
     "execution_count": 29,
     "metadata": {},
     "output_type": "execute_result"
    }
   ],
   "source": [
    "df_org_bac.loc[df_org_bac['genus']==0]"
   ]
  },
  {
   "cell_type": "code",
   "execution_count": 30,
   "id": "dd725f21",
   "metadata": {},
   "outputs": [
    {
     "name": "stderr",
     "output_type": "stream",
     "text": [
      "/home/sunny/anaconda3/lib/python3.7/site-packages/ipykernel_launcher.py:1: SettingWithCopyWarning: \n",
      "A value is trying to be set on a copy of a slice from a DataFrame\n",
      "\n",
      "See the caveats in the documentation: https://pandas.pydata.org/pandas-docs/stable/user_guide/indexing.html#returning-a-view-versus-a-copy\n",
      "  \"\"\"Entry point for launching an IPython kernel.\n"
     ]
    }
   ],
   "source": [
    "df_org_bac['genus'][825]=40323"
   ]
  },
  {
   "cell_type": "code",
   "execution_count": 31,
   "id": "dc75ede9",
   "metadata": {},
   "outputs": [
    {
     "data": {
      "text/html": [
       "<div>\n",
       "<style scoped>\n",
       "    .dataframe tbody tr th:only-of-type {\n",
       "        vertical-align: middle;\n",
       "    }\n",
       "\n",
       "    .dataframe tbody tr th {\n",
       "        vertical-align: top;\n",
       "    }\n",
       "\n",
       "    .dataframe thead th {\n",
       "        text-align: right;\n",
       "    }\n",
       "</style>\n",
       "<table border=\"1\" class=\"dataframe\">\n",
       "  <thead>\n",
       "    <tr style=\"text-align: right;\">\n",
       "      <th></th>\n",
       "      <th>doi</th>\n",
       "      <th>Microorganism_abb</th>\n",
       "      <th>Plastic_abb.</th>\n",
       "      <th>taxa</th>\n",
       "      <th>genus</th>\n",
       "    </tr>\n",
       "  </thead>\n",
       "  <tbody>\n",
       "    <tr>\n",
       "      <th>825</th>\n",
       "      <td>10.1016/j.polymdegradstab.2018.03.023</td>\n",
       "      <td>Pseudomonas geniculata</td>\n",
       "      <td>PLA</td>\n",
       "      <td>86188</td>\n",
       "      <td>40323</td>\n",
       "    </tr>\n",
       "  </tbody>\n",
       "</table>\n",
       "</div>"
      ],
      "text/plain": [
       "                                       doi       Microorganism_abb  \\\n",
       "825  10.1016/j.polymdegradstab.2018.03.023  Pseudomonas geniculata   \n",
       "\n",
       "    Plastic_abb.   taxa  genus  \n",
       "825          PLA  86188  40323  "
      ]
     },
     "execution_count": 31,
     "metadata": {},
     "output_type": "execute_result"
    }
   ],
   "source": [
    "df_org_bac.loc[df_org_bac['taxa']==86188]"
   ]
  },
  {
   "cell_type": "code",
   "execution_count": 32,
   "id": "3ee4233d",
   "metadata": {},
   "outputs": [
    {
     "data": {
      "text/plain": [
       "(969, 5)"
      ]
     },
     "execution_count": 32,
     "metadata": {},
     "output_type": "execute_result"
    }
   ],
   "source": [
    "df_org_bac.shape"
   ]
  },
  {
   "cell_type": "code",
   "execution_count": 33,
   "id": "5b3bd127",
   "metadata": {},
   "outputs": [],
   "source": [
    "df_org_bac=df_org_bac.loc[~(df_org_bac['genus']==0)]"
   ]
  },
  {
   "cell_type": "code",
   "execution_count": 34,
   "id": "45bf771c",
   "metadata": {},
   "outputs": [
    {
     "data": {
      "text/plain": [
       "(967, 5)"
      ]
     },
     "execution_count": 34,
     "metadata": {},
     "output_type": "execute_result"
    }
   ],
   "source": [
    "df_org_bac.shape"
   ]
  },
  {
   "cell_type": "code",
   "execution_count": 35,
   "id": "68b03e2b",
   "metadata": {},
   "outputs": [
    {
     "data": {
      "text/plain": [
       "134"
      ]
     },
     "execution_count": 35,
     "metadata": {},
     "output_type": "execute_result"
    }
   ],
   "source": [
    "len(set(df_org_bac.loc[~(df_org_bac['genus']==0)]['genus'].values))"
   ]
  },
  {
   "cell_type": "code",
   "execution_count": 36,
   "id": "a8dd1501",
   "metadata": {},
   "outputs": [],
   "source": [
    "plastic_selected=['HDPE', 'LDPE', 'PVC', 'Nylon', 'PVA', 'PHB', 'PCL', 'PHBV', 'PES', 'PBS', 'PBSA', 'PLA', 'PET', 'PHA', 'PU', 'PP', 'PE', 'PS', 'PHBH']"
   ]
  },
  {
   "cell_type": "code",
   "execution_count": 37,
   "id": "2ace1f5c",
   "metadata": {},
   "outputs": [
    {
     "data": {
      "text/plain": [
       "19"
      ]
     },
     "execution_count": 37,
     "metadata": {},
     "output_type": "execute_result"
    }
   ],
   "source": [
    "len(plastic_selected)"
   ]
  },
  {
   "cell_type": "code",
   "execution_count": 38,
   "id": "181e45e1",
   "metadata": {},
   "outputs": [
    {
     "data": {
      "text/plain": [
       "(807, 5)"
      ]
     },
     "execution_count": 38,
     "metadata": {},
     "output_type": "execute_result"
    }
   ],
   "source": [
    "df_org_bac.loc[df_org_bac['Plastic_abb.'].isin(plastic_selected)].shape"
   ]
  },
  {
   "cell_type": "code",
   "execution_count": 39,
   "id": "03914110",
   "metadata": {},
   "outputs": [],
   "source": [
    "df_org_bac=df_org_bac.loc[df_org_bac['Plastic_abb.'].isin(plastic_selected)]"
   ]
  },
  {
   "cell_type": "code",
   "execution_count": 40,
   "id": "c5cdeec1",
   "metadata": {},
   "outputs": [
    {
     "data": {
      "text/plain": [
       "125"
      ]
     },
     "execution_count": 40,
     "metadata": {},
     "output_type": "execute_result"
    }
   ],
   "source": [
    "len(set(df_org_bac.loc[~(df_org_bac['genus']==0)]['genus'].values))"
   ]
  },
  {
   "cell_type": "code",
   "execution_count": 41,
   "id": "17778aa1",
   "metadata": {},
   "outputs": [],
   "source": [
    "import collections"
   ]
  },
  {
   "cell_type": "code",
   "execution_count": 42,
   "id": "277653cf",
   "metadata": {},
   "outputs": [
    {
     "data": {
      "text/plain": [
       "57"
      ]
     },
     "execution_count": 42,
     "metadata": {},
     "output_type": "execute_result"
    }
   ],
   "source": [
    "len(set([i for i,j in collections.Counter(df_org_bac['genus'].values).items() if j >2]))"
   ]
  },
  {
   "cell_type": "code",
   "execution_count": 43,
   "id": "5ae527c8",
   "metadata": {},
   "outputs": [],
   "source": [
    "count=0\n",
    "for i in df_org_bac.groupby('genus'):\n",
    "    if len(set(i[1]['Plastic_abb.'].values))>2:\n",
    "        count+=1"
   ]
  },
  {
   "cell_type": "code",
   "execution_count": 44,
   "id": "82aca221",
   "metadata": {},
   "outputs": [
    {
     "data": {
      "text/plain": [
       "48"
      ]
     },
     "execution_count": 44,
     "metadata": {},
     "output_type": "execute_result"
    }
   ],
   "source": [
    "count"
   ]
  },
  {
   "cell_type": "code",
   "execution_count": 45,
   "id": "57c1ccd4",
   "metadata": {},
   "outputs": [],
   "source": [
    "genus_organism=[]\n",
    "for index, row in df_org_bac.iterrows():\n",
    "    genus_organism.append(ncbi.get_taxid_translator([row['genus']])[row['genus']])"
   ]
  },
  {
   "cell_type": "code",
   "execution_count": 46,
   "id": "268ee805",
   "metadata": {},
   "outputs": [
    {
     "data": {
      "text/plain": [
       "807"
      ]
     },
     "execution_count": 46,
     "metadata": {},
     "output_type": "execute_result"
    }
   ],
   "source": [
    "len(genus_organism)"
   ]
  },
  {
   "cell_type": "code",
   "execution_count": 47,
   "id": "278597b3",
   "metadata": {},
   "outputs": [],
   "source": [
    "df_org_bac['genus_organism']=genus_organism"
   ]
  },
  {
   "cell_type": "code",
   "execution_count": 48,
   "id": "62f00e28",
   "metadata": {},
   "outputs": [
    {
     "name": "stdout",
     "output_type": "stream",
     "text": [
      "48\r\n"
     ]
    }
   ],
   "source": [
    "! cat ../bac_genus_selected.txt | wc -l"
   ]
  },
  {
   "cell_type": "code",
   "execution_count": 50,
   "id": "31975850",
   "metadata": {},
   "outputs": [],
   "source": [
    "f=open('../bac_genus_selected_ordered.txt','r')"
   ]
  },
  {
   "cell_type": "code",
   "execution_count": 51,
   "id": "e23333d9",
   "metadata": {},
   "outputs": [],
   "source": [
    "l=f.readlines()"
   ]
  },
  {
   "cell_type": "code",
   "execution_count": 52,
   "id": "239f5a8f",
   "metadata": {},
   "outputs": [],
   "source": [
    "l=[i.strip() for i in l]"
   ]
  },
  {
   "cell_type": "code",
   "execution_count": 53,
   "id": "1b2866eb",
   "metadata": {},
   "outputs": [],
   "source": [
    "bac_genus_ordered=l"
   ]
  },
  {
   "cell_type": "code",
   "execution_count": 54,
   "id": "b7edb174",
   "metadata": {},
   "outputs": [],
   "source": [
    "plastic_selected_order=['PBS','PBSA','PCL','PLA','PET','PES','PHB','PHBV','PHBH','PHA','PU','Nylon','PVC','PVA','PP','PS','PE','LDPE','HDPE']"
   ]
  },
  {
   "cell_type": "code",
   "execution_count": 55,
   "id": "166db3c7",
   "metadata": {},
   "outputs": [
    {
     "data": {
      "text/plain": [
       "19"
      ]
     },
     "execution_count": 55,
     "metadata": {},
     "output_type": "execute_result"
    }
   ],
   "source": [
    "len(set(plastic_selected_order))"
   ]
  },
  {
   "cell_type": "code",
   "execution_count": 56,
   "id": "2341a815",
   "metadata": {},
   "outputs": [],
   "source": [
    "mat=np.zeros([48,19])"
   ]
  },
  {
   "cell_type": "code",
   "execution_count": 57,
   "id": "60bb12da",
   "metadata": {},
   "outputs": [
    {
     "data": {
      "text/plain": [
       "(807, 6)"
      ]
     },
     "execution_count": 57,
     "metadata": {},
     "output_type": "execute_result"
    }
   ],
   "source": [
    "df_org_bac.loc[df_org_bac['Plastic_abb.'].isin(plastic_selected)].shape"
   ]
  },
  {
   "cell_type": "code",
   "execution_count": 58,
   "id": "6f91e517",
   "metadata": {},
   "outputs": [],
   "source": [
    "for i in df_org_bac.loc[df_org_bac['genus_organism'].isin(l)].loc[df_org_bac['Plastic_abb.'].isin(plastic_selected_order)].groupby('genus_organism'):\n",
    "    #print(l.index(i[0]))\n",
    "    for j in i[1]['Plastic_abb.'].values:\n",
    "        mat[l.index(i[0])][plastic_selected_order.index(j)]=1"
   ]
  },
  {
   "cell_type": "code",
   "execution_count": 59,
   "id": "bc997382",
   "metadata": {},
   "outputs": [],
   "source": [
    "df_org_bac_heat=pd.DataFrame(mat,columns=plastic_selected_order)"
   ]
  },
  {
   "cell_type": "code",
   "execution_count": 60,
   "id": "99f24e83",
   "metadata": {},
   "outputs": [],
   "source": [
    "df_org_bac_heat.index=l"
   ]
  },
  {
   "cell_type": "code",
   "execution_count": 61,
   "id": "55d7b707",
   "metadata": {},
   "outputs": [
    {
     "data": {
      "text/plain": [
       "<AxesSubplot:>"
      ]
     },
     "execution_count": 61,
     "metadata": {},
     "output_type": "execute_result"
    },
    {
     "data": {
      "image/png": "[encoded data removed]",
      "text/plain": [
       "<Figure size 1080x720 with 1 Axes>"
      ]
     },
     "metadata": {
      "needs_background": "light"
     },
     "output_type": "display_data"
    }
   ],
   "source": [
    "fig, ax = plt.subplots(figsize=(15, 10))\n",
    "sns.heatmap(df_org_bac_heat,ax=ax,cmap=\"YlGnBu\", cbar=False)"
   ]
  },
  {
   "cell_type": "markdown",
   "id": "357f317e",
   "metadata": {},
   "source": [
    "## frequency heatmap"
   ]
  },
  {
   "cell_type": "code",
   "execution_count": 62,
   "id": "2880b44d",
   "metadata": {},
   "outputs": [],
   "source": [
    "mat=np.zeros([48,19])"
   ]
  },
  {
   "cell_type": "code",
   "execution_count": 63,
   "id": "e4fd9ec5",
   "metadata": {},
   "outputs": [],
   "source": [
    "for i in df_org_bac.loc[df_org_bac['genus_organism'].isin(l)].loc[df_org_bac['Plastic_abb.'].isin(plastic_selected_order)].groupby('genus_organism'):\n",
    "    #print(l.index(i[0]))\n",
    "    for j in i[1]['Plastic_abb.'].values:\n",
    "        mat[l.index(i[0])][plastic_selected_order.index(j)]+=1"
   ]
  },
  {
   "cell_type": "code",
   "execution_count": 64,
   "id": "11e7b7c6",
   "metadata": {},
   "outputs": [],
   "source": [
    "mat_normal=np.zeros([48,19])"
   ]
  },
  {
   "cell_type": "code",
   "execution_count": 65,
   "id": "46958d68",
   "metadata": {},
   "outputs": [],
   "source": [
    "for i in range(19):\n",
    "    mat_normal[:,i]=mat[:,i]/sum(mat[:,i])"
   ]
  },
  {
   "cell_type": "code",
   "execution_count": 66,
   "id": "8e1ce6f1",
   "metadata": {},
   "outputs": [],
   "source": [
    "df_org_bac_heat=pd.DataFrame(mat_normal,columns=plastic_selected_order)"
   ]
  },
  {
   "cell_type": "code",
   "execution_count": 67,
   "id": "af49aef2",
   "metadata": {},
   "outputs": [],
   "source": [
    "df_org_bac_heat.index=l"
   ]
  },
  {
   "cell_type": "code",
   "execution_count": 80,
   "id": "83e8c9da",
   "metadata": {},
   "outputs": [
    {
     "data": {
      "image/png": "[encoded data removed]",
      "text/plain": [
       "<Figure size 1080x936 with 2 Axes>"
      ]
     },
     "metadata": {
      "needs_background": "light"
     },
     "output_type": "display_data"
    }
   ],
   "source": [
    "fig, ax = plt.subplots(figsize=(15, 13))\n",
    "cmap = plt.cm.get_cmap(\"rocket_r\",10)\n",
    "sns.heatmap(df_org_bac_heat,ax=ax,cmap=cmap)\n",
    "ax.set_title(' Bacterial genus reported for plastic types ',fontsize=20)\n",
    "plt.xticks(fontsize=14,rotation=35)\n",
    "plt.yticks(fontsize=11)\n",
    "plt.savefig(\"bacterial_heatmap.tiff\")\n",
    "plt.show()"
   ]
  },
  {
   "cell_type": "code",
   "execution_count": null,
   "id": "ccfac660",
   "metadata": {},
   "outputs": [],
   "source": []
  },
  {
   "cell_type": "markdown",
   "id": "61a0bb91",
   "metadata": {},
   "source": [
    "## Fungus genus heatmap"
   ]
  },
  {
   "cell_type": "code",
   "execution_count": 81,
   "id": "eab33cd4",
   "metadata": {},
   "outputs": [],
   "source": [
    "count=[]\n",
    "for taxa in df_org['taxa']:\n",
    "    #print(taxa)\n",
    "    kingdom=[]\n",
    "    try:\n",
    "        for key,value in ncbi.get_rank(ncbi.get_lineage(taxa)).items():\n",
    "            if value=='superkingdom':\n",
    "                kingdom.append(key)\n",
    "    except:\n",
    "        print(taxa)\n",
    "    kingdom.append(taxa)\n",
    "    count.append(kingdom)"
   ]
  },
  {
   "cell_type": "code",
   "execution_count": 92,
   "id": "81ee05fd",
   "metadata": {},
   "outputs": [
    {
     "data": {
      "text/plain": [
       "2"
      ]
     },
     "execution_count": 92,
     "metadata": {},
     "output_type": "execute_result"
    }
   ],
   "source": [
    "len(set([i[0] for i in count]))"
   ]
  },
  {
   "cell_type": "code",
   "execution_count": 93,
   "id": "24cb1318",
   "metadata": {},
   "outputs": [],
   "source": [
    "bac_taxa=list(set([i[1] for i in count if i[0]==2]))"
   ]
  },
  {
   "cell_type": "code",
   "execution_count": 94,
   "id": "5c1feb8a",
   "metadata": {},
   "outputs": [
    {
     "data": {
      "text/plain": [
       "307"
      ]
     },
     "execution_count": 94,
     "metadata": {},
     "output_type": "execute_result"
    }
   ],
   "source": [
    "len(bac_taxa)"
   ]
  },
  {
   "cell_type": "code",
   "execution_count": 95,
   "id": "ed33eba0",
   "metadata": {},
   "outputs": [
    {
     "data": {
      "text/plain": [
       "125"
      ]
     },
     "execution_count": 95,
     "metadata": {},
     "output_type": "execute_result"
    }
   ],
   "source": [
    "len(df_org_bac.genus.unique())"
   ]
  },
  {
   "cell_type": "code",
   "execution_count": 96,
   "id": "0a3bef2d",
   "metadata": {},
   "outputs": [
    {
     "data": {
      "text/plain": [
       "307"
      ]
     },
     "execution_count": 96,
     "metadata": {},
     "output_type": "execute_result"
    }
   ],
   "source": [
    "len(set(bac_taxa))"
   ]
  },
  {
   "cell_type": "code",
   "execution_count": 97,
   "id": "6cb990aa",
   "metadata": {},
   "outputs": [
    {
     "data": {
      "text/plain": [
       "(508, 4)"
      ]
     },
     "execution_count": 97,
     "metadata": {},
     "output_type": "execute_result"
    }
   ],
   "source": [
    "df_org.loc[~(df_org['taxa'].isin(bac_taxa))].shape"
   ]
  },
  {
   "cell_type": "code",
   "execution_count": 98,
   "id": "8383ab48",
   "metadata": {},
   "outputs": [],
   "source": [
    "df_org_fug=df_org.loc[~(df_org['taxa'].isin(bac_taxa))]"
   ]
  },
  {
   "cell_type": "code",
   "execution_count": 99,
   "id": "1e718361",
   "metadata": {},
   "outputs": [],
   "source": [
    "count=[]\n",
    "for taxa in df_org_fug['taxa']:\n",
    "    #print(taxa)\n",
    "    kingdom=[]\n",
    "    try:\n",
    "        for key,value in ncbi.get_rank(ncbi.get_lineage(taxa)).items():\n",
    "            if value=='kingdom':\n",
    "                kingdom.append(key)\n",
    "    except:\n",
    "        print(taxa)\n",
    "    kingdom.append(taxa)\n",
    "    count.append(kingdom)"
   ]
  },
  {
   "cell_type": "code",
   "execution_count": 100,
   "id": "e7335381",
   "metadata": {},
   "outputs": [
    {
     "data": {
      "text/plain": [
       "508"
      ]
     },
     "execution_count": 100,
     "metadata": {},
     "output_type": "execute_result"
    }
   ],
   "source": [
    "len([i for i in count if len(i)==2])"
   ]
  },
  {
   "cell_type": "code",
   "execution_count": 101,
   "id": "fb9542e0",
   "metadata": {},
   "outputs": [
    {
     "data": {
      "text/plain": [
       "508"
      ]
     },
     "execution_count": 101,
     "metadata": {},
     "output_type": "execute_result"
    }
   ],
   "source": [
    "len(count)"
   ]
  },
  {
   "cell_type": "code",
   "execution_count": 102,
   "id": "383f794b",
   "metadata": {},
   "outputs": [
    {
     "data": {
      "text/plain": [
       "172"
      ]
     },
     "execution_count": 102,
     "metadata": {},
     "output_type": "execute_result"
    }
   ],
   "source": [
    "len(set([i[1] for i in count]))"
   ]
  },
  {
   "cell_type": "code",
   "execution_count": 103,
   "id": "daaead0c",
   "metadata": {},
   "outputs": [
    {
     "data": {
      "text/plain": [
       "3"
      ]
     },
     "execution_count": 103,
     "metadata": {},
     "output_type": "execute_result"
    }
   ],
   "source": [
    "len(set([i[0] for i in count]))"
   ]
  },
  {
   "cell_type": "code",
   "execution_count": 104,
   "id": "51feb6a2",
   "metadata": {},
   "outputs": [
    {
     "name": "stderr",
     "output_type": "stream",
     "text": [
      "/home/sunny/anaconda3/lib/python3.7/site-packages/seaborn/_decorators.py:43: FutureWarning: Pass the following variable as a keyword arg: x. From version 0.12, the only valid positional argument will be `data`, and passing other arguments without an explicit keyword will result in an error or misinterpretation.\n",
      "  FutureWarning\n"
     ]
    },
    {
     "data": {
      "text/plain": [
       "<AxesSubplot:ylabel='count'>"
      ]
     },
     "execution_count": 104,
     "metadata": {},
     "output_type": "execute_result"
    },
    {
     "data": {
      "image/png": "[encoded data removed]",
      "text/plain": [
       "<Figure size 432x288 with 1 Axes>"
      ]
     },
     "metadata": {
      "needs_background": "light"
     },
     "output_type": "display_data"
    }
   ],
   "source": [
    "sns.countplot([i[0] for i in count])"
   ]
  },
  {
   "cell_type": "code",
   "execution_count": 105,
   "id": "f0fa0f85",
   "metadata": {},
   "outputs": [
    {
     "data": {
      "text/plain": [
       "Counter({4751: 487, 33090: 1, 33208: 20})"
      ]
     },
     "execution_count": 105,
     "metadata": {},
     "output_type": "execute_result"
    }
   ],
   "source": [
    "collections.Counter([i[0] for i in count])"
   ]
  },
  {
   "cell_type": "code",
   "execution_count": 106,
   "id": "13ad6db0",
   "metadata": {},
   "outputs": [
    {
     "data": {
      "text/plain": [
       "166"
      ]
     },
     "execution_count": 106,
     "metadata": {},
     "output_type": "execute_result"
    }
   ],
   "source": [
    "len(set([i[1] for i in count if i[0]==4751]))"
   ]
  },
  {
   "cell_type": "code",
   "execution_count": 107,
   "id": "61e969ba",
   "metadata": {},
   "outputs": [],
   "source": [
    "fungal_genus=list(set([i[1] for i in count if i[0]==4751]))"
   ]
  },
  {
   "cell_type": "code",
   "execution_count": 108,
   "id": "db60afec",
   "metadata": {},
   "outputs": [],
   "source": [
    "df_org_fung=df_org.loc[df_org['taxa'].isin(fungal_genus)]"
   ]
  },
  {
   "cell_type": "code",
   "execution_count": 109,
   "id": "94e7b159",
   "metadata": {},
   "outputs": [],
   "source": [
    "fcount=[]\n",
    "ftaxa=[]\n",
    "for taxa in df_org_fung['taxa']:\n",
    "    #print(taxa)\n",
    "    genus=[]\n",
    "    try:\n",
    "        for key,value in ncbi.get_rank(ncbi.get_lineage(taxa)).items():\n",
    "            if value=='genus':\n",
    "                genus.append(key)\n",
    "                ftaxa.append(taxa)\n",
    "    except:\n",
    "        print(taxa)\n",
    "    genus.append(taxa)\n",
    "    fcount.append(genus)"
   ]
  },
  {
   "cell_type": "code",
   "execution_count": 110,
   "id": "69898bf0",
   "metadata": {},
   "outputs": [],
   "source": [
    "fungal_genus=[i[0] for i in fcount]"
   ]
  },
  {
   "cell_type": "code",
   "execution_count": 111,
   "id": "dc20ed95",
   "metadata": {},
   "outputs": [
    {
     "name": "stderr",
     "output_type": "stream",
     "text": [
      "/home/sunny/anaconda3/lib/python3.7/site-packages/ipykernel_launcher.py:1: SettingWithCopyWarning: \n",
      "A value is trying to be set on a copy of a slice from a DataFrame.\n",
      "Try using .loc[row_indexer,col_indexer] = value instead\n",
      "\n",
      "See the caveats in the documentation: https://pandas.pydata.org/pandas-docs/stable/user_guide/indexing.html#returning-a-view-versus-a-copy\n",
      "  \"\"\"Entry point for launching an IPython kernel.\n"
     ]
    }
   ],
   "source": [
    "df_org_fung['genus']=fungal_genus"
   ]
  },
  {
   "cell_type": "code",
   "execution_count": 112,
   "id": "fa42a3db",
   "metadata": {},
   "outputs": [],
   "source": [
    "genus_organism=[]\n",
    "for index, row in df_org_fung.iterrows():\n",
    "    genus_organism.append(ncbi.get_taxid_translator([row['genus']])[row['genus']])"
   ]
  },
  {
   "cell_type": "code",
   "execution_count": 113,
   "id": "0d420b9b",
   "metadata": {},
   "outputs": [
    {
     "data": {
      "text/plain": [
       "79"
      ]
     },
     "execution_count": 113,
     "metadata": {},
     "output_type": "execute_result"
    }
   ],
   "source": [
    "len(set(genus_organism))"
   ]
  },
  {
   "cell_type": "code",
   "execution_count": 114,
   "id": "6f5dafec",
   "metadata": {
    "collapsed": true
   },
   "outputs": [
    {
     "name": "stdout",
     "output_type": "stream",
     "text": [
      "Trametes\n",
      "Marquandomyces\n",
      "Clonostachys\n",
      "Pyrenochaetopsis\n",
      "Yarrowia\n",
      "Rhodotorula\n",
      "Parengyodontium\n",
      "Bipolaris\n",
      "Lulwoana\n",
      "Lentinus\n",
      "Mycosphaerella\n",
      "Meyerozyma\n",
      "Knufia\n",
      "Cephalosporium\n",
      "Candolleomyces\n",
      "Agaricus\n",
      "Alternaria\n",
      "Aureobasidium\n",
      "Thermomyces\n",
      "Pestalotiopsis\n",
      "Bjerkandera\n",
      "Pseudozyma\n",
      "Cordyceps\n",
      "Fusarium\n",
      "Thyrostroma\n",
      "Fomitopsis\n",
      "Rhizopus\n",
      "Diaporthe\n",
      "Akanthomyces\n",
      "Talaromyces\n",
      "Myrothecium\n",
      "Thermoascus\n",
      "Monascus\n",
      "Colletotrichum\n",
      "Malbranchea\n",
      "Leptosphaeria\n",
      "Moesziomyces\n",
      "Cladosporium\n",
      "Verticillium\n",
      "Gibellulopsis\n",
      "Plectosphaerella\n",
      "Arthrographis\n",
      "Chaetomium\n",
      "Rasamsonia\n",
      "Papiliotrema\n",
      "Pleurotus\n",
      "Purpureocillium\n",
      "Chrysosporium\n",
      "Nia\n",
      "Stagonosporopsis\n",
      "Leptobacillium\n",
      "Penicillium\n",
      "Gloeophyllum\n",
      "Cunninghamella\n",
      "Absidia\n",
      "Actinomucor\n",
      "Mortierella\n",
      "Phanerodontia\n",
      "Lichtheimia\n",
      "Paecilomyces\n",
      "Cryptococcus\n",
      "Acremonium\n",
      "Debaryomyces\n",
      "Sarocladium\n",
      "Metarhizium\n",
      "Curvularia\n",
      "Trichoderma\n",
      "Monocillium\n",
      "Mucor\n",
      "Marasmius\n",
      "Diutina\n",
      "Phoma\n",
      "Pseudogymnoascus\n",
      "Humicola\n",
      "Flammulina\n",
      "Asteromyces\n",
      "Aspergillus\n",
      "Entomortierella\n",
      "Paraphoma\n"
     ]
    }
   ],
   "source": [
    "for i in list(set(genus_organism)):\n",
    "    print(i)"
   ]
  },
  {
   "cell_type": "code",
   "execution_count": 115,
   "id": "0f3e85d6",
   "metadata": {},
   "outputs": [],
   "source": [
    "count=0\n",
    "for i in df_org_fung.groupby('genus'):\n",
    "    if len(set(i[1]['Plastic_abb.'].values))>2:\n",
    "        count+=1"
   ]
  },
  {
   "cell_type": "code",
   "execution_count": 116,
   "id": "866d4f29",
   "metadata": {},
   "outputs": [
    {
     "data": {
      "text/plain": [
       "28"
      ]
     },
     "execution_count": 116,
     "metadata": {},
     "output_type": "execute_result"
    }
   ],
   "source": [
    "count"
   ]
  },
  {
   "cell_type": "code",
   "execution_count": 117,
   "id": "f13cd18b",
   "metadata": {},
   "outputs": [
    {
     "data": {
      "text/plain": [
       "(487, 5)"
      ]
     },
     "execution_count": 117,
     "metadata": {},
     "output_type": "execute_result"
    }
   ],
   "source": [
    "df_org_fung.shape"
   ]
  },
  {
   "cell_type": "code",
   "execution_count": 118,
   "id": "de3c6d53",
   "metadata": {},
   "outputs": [
    {
     "data": {
      "text/plain": [
       "487"
      ]
     },
     "execution_count": 118,
     "metadata": {},
     "output_type": "execute_result"
    }
   ],
   "source": [
    "len(genus_organism)"
   ]
  },
  {
   "cell_type": "code",
   "execution_count": 119,
   "id": "13d62ce2",
   "metadata": {},
   "outputs": [
    {
     "name": "stderr",
     "output_type": "stream",
     "text": [
      "/home/sunny/anaconda3/lib/python3.7/site-packages/ipykernel_launcher.py:1: SettingWithCopyWarning: \n",
      "A value is trying to be set on a copy of a slice from a DataFrame.\n",
      "Try using .loc[row_indexer,col_indexer] = value instead\n",
      "\n",
      "See the caveats in the documentation: https://pandas.pydata.org/pandas-docs/stable/user_guide/indexing.html#returning-a-view-versus-a-copy\n",
      "  \"\"\"Entry point for launching an IPython kernel.\n"
     ]
    }
   ],
   "source": [
    "df_org_fung['genus_organism']=genus_organism"
   ]
  },
  {
   "cell_type": "code",
   "execution_count": 120,
   "id": "b743406f",
   "metadata": {},
   "outputs": [],
   "source": [
    "count=0\n",
    "for i in df_org_fung.groupby('genus_organism'):\n",
    "    if len(set(i[1]['Plastic_abb.'].values))>2:\n",
    "        count+=1"
   ]
  },
  {
   "cell_type": "markdown",
   "id": "2d12164b",
   "metadata": {},
   "source": [
    "### Out of 79 genus associated with fungai only 28 are reported for more than 2 plastic types"
   ]
  },
  {
   "cell_type": "code",
   "execution_count": 121,
   "id": "7efcca8c",
   "metadata": {
    "collapsed": true
   },
   "outputs": [
    {
     "name": "stdout",
     "output_type": "stream",
     "text": [
      "Absidia\n",
      "Acremonium\n",
      "Actinomucor\n",
      "Alternaria\n",
      "Aspergillus\n",
      "Aureobasidium\n",
      "Bjerkandera\n",
      "Chaetomium\n",
      "Cladosporium\n",
      "Clonostachys\n",
      "Cordyceps\n",
      "Cryptococcus\n",
      "Curvularia\n",
      "Fusarium\n",
      "Meyerozyma\n",
      "Moesziomyces\n",
      "Mortierella\n",
      "Paecilomyces\n",
      "Papiliotrema\n",
      "Penicillium\n",
      "Phanerodontia\n",
      "Pleurotus\n",
      "Purpureocillium\n",
      "Rhizopus\n",
      "Talaromyces\n",
      "Thermoascus\n",
      "Thermomyces\n",
      "Trichoderma\n"
     ]
    }
   ],
   "source": [
    "count=0\n",
    "for i in df_org_fung.groupby('genus_organism'):\n",
    "    if len(set(i[1]['Plastic_abb.'].values))>2:\n",
    "        print(i[0])"
   ]
  },
  {
   "cell_type": "code",
   "execution_count": 123,
   "id": "a5d7535d",
   "metadata": {},
   "outputs": [
    {
     "name": "stdout",
     "output_type": "stream",
     "text": [
      "28\r\n"
     ]
    }
   ],
   "source": [
    "! cat ../fungal_genus_selected28_ordered.txt | wc -l"
   ]
  },
  {
   "cell_type": "code",
   "execution_count": 125,
   "id": "883b89df",
   "metadata": {},
   "outputs": [],
   "source": [
    "f=open('../fungal_genus_selected28_ordered.txt','r')"
   ]
  },
  {
   "cell_type": "code",
   "execution_count": 126,
   "id": "22be9d83",
   "metadata": {},
   "outputs": [],
   "source": [
    "l=f.readlines()"
   ]
  },
  {
   "cell_type": "code",
   "execution_count": 127,
   "id": "262eda6b",
   "metadata": {},
   "outputs": [],
   "source": [
    "l=[i.strip() for i in l]"
   ]
  },
  {
   "cell_type": "code",
   "execution_count": 128,
   "id": "f59bac43",
   "metadata": {},
   "outputs": [],
   "source": [
    "fungal_genus_ordered=l"
   ]
  },
  {
   "cell_type": "code",
   "execution_count": 129,
   "id": "a951971a",
   "metadata": {},
   "outputs": [],
   "source": [
    "plastic_selected_order=['PBS','PBSA','PCL','PLA','PET','PES','PHB','PHBV','PHBH','PHA','PU','Nylon','PVC','PVA','PP','PS','PE','LDPE','HDPE']"
   ]
  },
  {
   "cell_type": "code",
   "execution_count": 130,
   "id": "beda37f8",
   "metadata": {},
   "outputs": [
    {
     "data": {
      "text/plain": [
       "19"
      ]
     },
     "execution_count": 130,
     "metadata": {},
     "output_type": "execute_result"
    }
   ],
   "source": [
    "len(set(plastic_selected_order))"
   ]
  },
  {
   "cell_type": "code",
   "execution_count": 133,
   "id": "56933804",
   "metadata": {},
   "outputs": [],
   "source": [
    "fmat=np.zeros([28,19])"
   ]
  },
  {
   "cell_type": "code",
   "execution_count": 134,
   "id": "7c4385dd",
   "metadata": {},
   "outputs": [
    {
     "data": {
      "text/plain": [
       "(432, 6)"
      ]
     },
     "execution_count": 134,
     "metadata": {},
     "output_type": "execute_result"
    }
   ],
   "source": [
    "df_org_fung.loc[df_org_fung['Plastic_abb.'].isin(plastic_selected)].shape"
   ]
  },
  {
   "cell_type": "code",
   "execution_count": 135,
   "id": "46b51e43",
   "metadata": {},
   "outputs": [],
   "source": [
    "for i in df_org_fung.loc[df_org_fung['genus_organism'].isin(l)].loc[df_org_fung['Plastic_abb.'].isin(plastic_selected_order)].groupby('genus_organism'):\n",
    "    #print(l.index(i[0]))\n",
    "    for j in i[1]['Plastic_abb.'].values:\n",
    "        fmat[l.index(i[0])][plastic_selected_order.index(j)]+=1"
   ]
  },
  {
   "cell_type": "code",
   "execution_count": 136,
   "id": "af2b4670",
   "metadata": {},
   "outputs": [],
   "source": [
    "mat_normal=np.zeros([28,19])"
   ]
  },
  {
   "cell_type": "code",
   "execution_count": 137,
   "id": "4d1277bd",
   "metadata": {},
   "outputs": [
    {
     "name": "stderr",
     "output_type": "stream",
     "text": [
      "/home/sunny/anaconda3/lib/python3.7/site-packages/ipykernel_launcher.py:2: RuntimeWarning: invalid value encountered in true_divide\n",
      "  \n"
     ]
    }
   ],
   "source": [
    "for i in range(19):\n",
    "    mat_normal[:,i]=fmat[:,i]/sum(fmat[:,i])"
   ]
  },
  {
   "cell_type": "code",
   "execution_count": 138,
   "id": "d48cc526",
   "metadata": {
    "collapsed": true
   },
   "outputs": [
    {
     "data": {
      "text/plain": [
       "[14.0,\n",
       " 20.0,\n",
       " 43.0,\n",
       " 40.0,\n",
       " 12.0,\n",
       " 7.0,\n",
       " 61.0,\n",
       " 24.0,\n",
       " 0.0,\n",
       " 1.0,\n",
       " 30.0,\n",
       " 3.0,\n",
       " 12.0,\n",
       " 1.0,\n",
       " 1.0,\n",
       " 3.0,\n",
       " 26.0,\n",
       " 46.0,\n",
       " 9.0]"
      ]
     },
     "execution_count": 138,
     "metadata": {},
     "output_type": "execute_result"
    }
   ],
   "source": [
    "[ sum(fmat[:,i]) for i in range(19)]"
   ]
  },
  {
   "cell_type": "code",
   "execution_count": 139,
   "id": "b9083fb0",
   "metadata": {},
   "outputs": [],
   "source": [
    "df_org_fung1=df_org_fung.loc[df_org_fung['Plastic_abb.'].isin(plastic_selected)]"
   ]
  },
  {
   "cell_type": "code",
   "execution_count": 140,
   "id": "4b8af89e",
   "metadata": {},
   "outputs": [],
   "source": [
    "count=0\n",
    "for i in df_org_fung1.groupby('genus_organism'):\n",
    "    if len(set(i[1]['Plastic_abb.'].values))>1:\n",
    "        count+=1"
   ]
  },
  {
   "cell_type": "code",
   "execution_count": 141,
   "id": "9f4cd40d",
   "metadata": {},
   "outputs": [
    {
     "data": {
      "text/plain": [
       "42"
      ]
     },
     "execution_count": 141,
     "metadata": {},
     "output_type": "execute_result"
    }
   ],
   "source": [
    "count"
   ]
  },
  {
   "cell_type": "code",
   "execution_count": 142,
   "id": "1a35fc54",
   "metadata": {
    "collapsed": true
   },
   "outputs": [
    {
     "name": "stdout",
     "output_type": "stream",
     "text": [
      "Absidia\n",
      "Acremonium\n",
      "Actinomucor\n",
      "Alternaria\n",
      "Aspergillus\n",
      "Asteromyces\n",
      "Aureobasidium\n",
      "Bjerkandera\n",
      "Cephalosporium\n",
      "Chaetomium\n",
      "Cladosporium\n",
      "Clonostachys\n",
      "Cordyceps\n",
      "Cryptococcus\n",
      "Curvularia\n",
      "Debaryomyces\n",
      "Fusarium\n",
      "Leptobacillium\n",
      "Marquandomyces\n",
      "Meyerozyma\n",
      "Moesziomyces\n",
      "Mortierella\n",
      "Mucor\n",
      "Nia\n",
      "Paecilomyces\n",
      "Papiliotrema\n",
      "Paraphoma\n",
      "Parengyodontium\n",
      "Penicillium\n",
      "Phanerodontia\n",
      "Pleurotus\n",
      "Pseudogymnoascus\n",
      "Purpureocillium\n",
      "Rhizopus\n",
      "Rhodotorula\n",
      "Sarocladium\n",
      "Talaromyces\n",
      "Thermoascus\n",
      "Thermomyces\n",
      "Trametes\n",
      "Trichoderma\n",
      "Yarrowia\n"
     ]
    }
   ],
   "source": [
    "count=0\n",
    "for i in df_org_fung1.groupby('genus_organism'):\n",
    "    if len(set(i[1]['Plastic_abb.'].values))>1:\n",
    "        print(i[0])"
   ]
  },
  {
   "cell_type": "markdown",
   "id": "d7614ca7",
   "metadata": {},
   "source": [
    "## heatmap of 42 fungal with selected plastics"
   ]
  },
  {
   "cell_type": "code",
   "execution_count": 143,
   "id": "f4847573",
   "metadata": {},
   "outputs": [
    {
     "name": "stdout",
     "output_type": "stream",
     "text": [
      "42\r\n"
     ]
    }
   ],
   "source": [
    "! cat ../fungal_genus_selected42_ordered.txt | wc -l"
   ]
  },
  {
   "cell_type": "code",
   "execution_count": 144,
   "id": "7b68f176",
   "metadata": {},
   "outputs": [],
   "source": [
    "f=open('../fungal_genus_selected42_ordered.txt','r')"
   ]
  },
  {
   "cell_type": "code",
   "execution_count": 145,
   "id": "d9a31d5c",
   "metadata": {},
   "outputs": [],
   "source": [
    "l=f.readlines()"
   ]
  },
  {
   "cell_type": "code",
   "execution_count": 146,
   "id": "eee9dab6",
   "metadata": {},
   "outputs": [],
   "source": [
    "l=[i.strip() for i in l]"
   ]
  },
  {
   "cell_type": "code",
   "execution_count": 147,
   "id": "86ed6de5",
   "metadata": {},
   "outputs": [
    {
     "data": {
      "text/plain": [
       "['Phanerodontia',\n",
       " 'Papiliotrema',\n",
       " 'Nia',\n",
       " 'Moesziomyces',\n",
       " 'Rhodotorula',\n",
       " 'Bjerkandera',\n",
       " 'Trametes',\n",
       " 'Pleurotus',\n",
       " 'Cryptococcus',\n",
       " 'Marquandomyces']"
      ]
     },
     "execution_count": 147,
     "metadata": {},
     "output_type": "execute_result"
    }
   ],
   "source": [
    "l[:10]"
   ]
  },
  {
   "cell_type": "code",
   "execution_count": 148,
   "id": "51ba6c55",
   "metadata": {},
   "outputs": [],
   "source": [
    "fungal_genus_ordered=l"
   ]
  },
  {
   "cell_type": "code",
   "execution_count": 149,
   "id": "9083af47",
   "metadata": {},
   "outputs": [],
   "source": [
    "plastic_selected_order=['PBS','PBSA','PCL','PLA','PET','PES','PHB','PHBV','PHBH','PHA','PU','Nylon','PVC','PVA','PP','PS','PE','LDPE','HDPE']"
   ]
  },
  {
   "cell_type": "code",
   "execution_count": 151,
   "id": "a6c8b93c",
   "metadata": {},
   "outputs": [
    {
     "data": {
      "text/plain": [
       "19"
      ]
     },
     "execution_count": 151,
     "metadata": {},
     "output_type": "execute_result"
    }
   ],
   "source": [
    "len(set(plastic_selected_order))"
   ]
  },
  {
   "cell_type": "code",
   "execution_count": 152,
   "id": "babdd23e",
   "metadata": {},
   "outputs": [],
   "source": [
    "mat=np.zeros([42,19])"
   ]
  },
  {
   "cell_type": "code",
   "execution_count": 153,
   "id": "7dbe21cd",
   "metadata": {},
   "outputs": [
    {
     "data": {
      "text/plain": [
       "18"
      ]
     },
     "execution_count": 153,
     "metadata": {},
     "output_type": "execute_result"
    }
   ],
   "source": [
    "len(df_org_fung1['Plastic_abb.'].unique())"
   ]
  },
  {
   "cell_type": "code",
   "execution_count": 154,
   "id": "a0ea356c",
   "metadata": {},
   "outputs": [
    {
     "data": {
      "text/plain": [
       "{'PHBH'}"
      ]
     },
     "execution_count": 154,
     "metadata": {},
     "output_type": "execute_result"
    }
   ],
   "source": [
    "set(plastic_selected_order)-set(collections.Counter(df_org_fung1['Plastic_abb.'].values).keys())"
   ]
  },
  {
   "cell_type": "markdown",
   "id": "bc7a2fec",
   "metadata": {},
   "source": [
    "### No fungal genus found to associate with PHBH in filtered conditions"
   ]
  },
  {
   "cell_type": "code",
   "execution_count": 156,
   "id": "e1046e6d",
   "metadata": {},
   "outputs": [],
   "source": [
    "plastic_selected_order=['PBS','PBSA','PCL','PLA','PET','PES','PHB','PHBV','PHA','PU','Nylon','PVC','PVA','PP','PS','PE','LDPE','HDPE']"
   ]
  },
  {
   "cell_type": "code",
   "execution_count": 157,
   "id": "70a8cefa",
   "metadata": {},
   "outputs": [],
   "source": [
    "mat=np.zeros([42,18])"
   ]
  },
  {
   "cell_type": "code",
   "execution_count": 158,
   "id": "258c32ef",
   "metadata": {},
   "outputs": [],
   "source": [
    "for i in df_org_fung1.loc[df_org_fung1['genus_organism'].isin(l)].groupby('genus_organism'):\n",
    "    #print(l.index(i[0]))\n",
    "    for j in i[1]['Plastic_abb.'].values:\n",
    "        mat[l.index(i[0])][plastic_selected_order.index(j)]+=1"
   ]
  },
  {
   "cell_type": "code",
   "execution_count": 159,
   "id": "f6c16a82",
   "metadata": {},
   "outputs": [],
   "source": [
    "mat_normal=np.zeros([42,18])"
   ]
  },
  {
   "cell_type": "code",
   "execution_count": 160,
   "id": "c7e46b93",
   "metadata": {},
   "outputs": [],
   "source": [
    "for i in range(18):\n",
    "    mat_normal[:,i]=mat[:,i]/sum(mat[:,i])"
   ]
  },
  {
   "cell_type": "code",
   "execution_count": 161,
   "id": "cd58aa27",
   "metadata": {},
   "outputs": [],
   "source": [
    "df_org_fung_heat=pd.DataFrame(mat_normal,columns=plastic_selected_order)"
   ]
  },
  {
   "cell_type": "code",
   "execution_count": 162,
   "id": "50c98291",
   "metadata": {},
   "outputs": [],
   "source": [
    "df_org_fung_heat.index=l"
   ]
  },
  {
   "cell_type": "code",
   "execution_count": 169,
   "id": "0e766875",
   "metadata": {},
   "outputs": [
    {
     "data": {
      "image/png": "[encoded data removed]",
      "text/plain": [
       "<Figure size 1080x864 with 2 Axes>"
      ]
     },
     "metadata": {
      "needs_background": "light"
     },
     "output_type": "display_data"
    }
   ],
   "source": [
    "fig, ax = plt.subplots(figsize=(15, 12))\n",
    "cmap = plt.cm.get_cmap(\"rocket_r\",10)\n",
    "sns.heatmap(df_org_fung_heat,ax=ax,cmap=cmap)\n",
    "ax.set_title(' fungal genus reported for plastic types ',fontsize=20)\n",
    "plt.xticks(fontsize=14,rotation=35)\n",
    "plt.yticks(fontsize=12)\n",
    "plt.savefig(\"fungal_heatmap.eps\")\n",
    "plt.show()"
   ]
  },
  {
   "cell_type": "code",
   "execution_count": null,
   "id": "9a74b2d8",
   "metadata": {},
   "outputs": [],
   "source": []
  }
 ],
 "metadata": {
  "kernelspec": {
   "display_name": "Python 3",
   "language": "python",
   "name": "python3"
  },
  "language_info": {
   "codemirror_mode": {
    "name": "ipython",
    "version": 3
   },
   "file_extension": ".py",
   "mimetype": "text/x-python",
   "name": "python",
   "nbconvert_exporter": "python",
   "pygments_lexer": "ipython3",
   "version": "3.7.7"
  }
 },
 "nbformat": 4,
 "nbformat_minor": 5
}
