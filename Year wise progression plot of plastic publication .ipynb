{
 "cells": [
  {
   "cell_type": "code",
   "execution_count": 1,
   "id": "402434c6",
   "metadata": {},
   "outputs": [],
   "source": [
    "import pandas as pd\n",
    "import numpy as np \n",
    "import seaborn as sns \n",
    "import matplotlib.pyplot as plt"
   ]
  },
  {
   "cell_type": "code",
   "execution_count": 2,
   "id": "a6d95795",
   "metadata": {},
   "outputs": [],
   "source": [
    "%config Completer.use_jedi = False"
   ]
  },
  {
   "cell_type": "code",
   "execution_count": 3,
   "id": "55a34e8b",
   "metadata": {},
   "outputs": [],
   "source": [
    "data=pd.read_excel('../Plastic database_Final_Ankita.xlsx')"
   ]
  },
  {
   "cell_type": "code",
   "execution_count": 4,
   "id": "9450ee50",
   "metadata": {},
   "outputs": [],
   "source": [
    "df=pd.DataFrame(data)"
   ]
  },
  {
   "cell_type": "code",
   "execution_count": 5,
   "id": "8f56cdcf",
   "metadata": {},
   "outputs": [
    {
     "data": {
      "text/plain": [
       "Index(['  ', 'doi', 'Microorganism', 'Microorganism_abb', 'taxa_no', 'Plastic',\n",
       "       'Plastic_abb.', 'Plastic treatment/types', 'Comment', 'Evidence',\n",
       "       'Sequence', 'GenbankID', 'Year', 'journal', 'Unnamed: 14',\n",
       "       'Unnamed: 15'],\n",
       "      dtype='object')"
      ]
     },
     "execution_count": 5,
     "metadata": {},
     "output_type": "execute_result"
    }
   ],
   "source": [
    "df.columns"
   ]
  },
  {
   "cell_type": "code",
   "execution_count": 6,
   "id": "731de55e",
   "metadata": {},
   "outputs": [
    {
     "data": {
      "text/html": [
       "<div>\n",
       "<style scoped>\n",
       "    .dataframe tbody tr th:only-of-type {\n",
       "        vertical-align: middle;\n",
       "    }\n",
       "\n",
       "    .dataframe tbody tr th {\n",
       "        vertical-align: top;\n",
       "    }\n",
       "\n",
       "    .dataframe thead th {\n",
       "        text-align: right;\n",
       "    }\n",
       "</style>\n",
       "<table border=\"1\" class=\"dataframe\">\n",
       "  <thead>\n",
       "    <tr style=\"text-align: right;\">\n",
       "      <th></th>\n",
       "      <th>doi</th>\n",
       "      <th>Plastic</th>\n",
       "      <th>Year</th>\n",
       "    </tr>\n",
       "  </thead>\n",
       "  <tbody>\n",
       "    <tr>\n",
       "      <th>0</th>\n",
       "      <td>10.1128/AEM.64.5.1731-1735.1998</td>\n",
       "      <td>BTA copolyester</td>\n",
       "      <td>[1998.0]</td>\n",
       "    </tr>\n",
       "    <tr>\n",
       "      <th>1</th>\n",
       "      <td>10.1007/s00253-014-5860-y</td>\n",
       "      <td>Ecoflex (Terephthalic acid + 1,4-butandiol+adi...</td>\n",
       "      <td>[2014.0]</td>\n",
       "    </tr>\n",
       "    <tr>\n",
       "      <th>2</th>\n",
       "      <td>10.1007/s13205-017-0959-3</td>\n",
       "      <td>HDPE</td>\n",
       "      <td>[2017.0]</td>\n",
       "    </tr>\n",
       "    <tr>\n",
       "      <th>3</th>\n",
       "      <td>10.1111/j.1472-765X.2010.02883.x</td>\n",
       "      <td>HDPE</td>\n",
       "      <td>[2010.0]</td>\n",
       "    </tr>\n",
       "    <tr>\n",
       "      <th>4</th>\n",
       "      <td>10.1111/j.1472-765X.2010.02883.x</td>\n",
       "      <td>HDPE</td>\n",
       "      <td>[2010.0]</td>\n",
       "    </tr>\n",
       "    <tr>\n",
       "      <th>...</th>\n",
       "      <td>...</td>\n",
       "      <td>...</td>\n",
       "      <td>...</td>\n",
       "    </tr>\n",
       "    <tr>\n",
       "      <th>1682</th>\n",
       "      <td>10.3390/polym13203508</td>\n",
       "      <td>PS</td>\n",
       "      <td>NaN</td>\n",
       "    </tr>\n",
       "    <tr>\n",
       "      <th>1683</th>\n",
       "      <td>10.3390/polym13203508</td>\n",
       "      <td>PU</td>\n",
       "      <td>NaN</td>\n",
       "    </tr>\n",
       "    <tr>\n",
       "      <th>1684</th>\n",
       "      <td>10.3390/polym13203508</td>\n",
       "      <td>PE</td>\n",
       "      <td>NaN</td>\n",
       "    </tr>\n",
       "    <tr>\n",
       "      <th>1685</th>\n",
       "      <td>https://www.researchgate.net/publication/32612...</td>\n",
       "      <td>HDPE</td>\n",
       "      <td>NaN</td>\n",
       "    </tr>\n",
       "    <tr>\n",
       "      <th>1686</th>\n",
       "      <td>https://www.researchgate.net/publication/32612...</td>\n",
       "      <td>LDPE</td>\n",
       "      <td>NaN</td>\n",
       "    </tr>\n",
       "  </tbody>\n",
       "</table>\n",
       "<p>1687 rows × 3 columns</p>\n",
       "</div>"
      ],
      "text/plain": [
       "                                                    doi  \\\n",
       "0                       10.1128/AEM.64.5.1731-1735.1998   \n",
       "1                             10.1007/s00253-014-5860-y   \n",
       "2                             10.1007/s13205-017-0959-3   \n",
       "3                      10.1111/j.1472-765X.2010.02883.x   \n",
       "4                      10.1111/j.1472-765X.2010.02883.x   \n",
       "...                                                 ...   \n",
       "1682                              10.3390/polym13203508   \n",
       "1683                              10.3390/polym13203508   \n",
       "1684                              10.3390/polym13203508   \n",
       "1685  https://www.researchgate.net/publication/32612...   \n",
       "1686  https://www.researchgate.net/publication/32612...   \n",
       "\n",
       "                                                Plastic      Year  \n",
       "0                                       BTA copolyester  [1998.0]  \n",
       "1     Ecoflex (Terephthalic acid + 1,4-butandiol+adi...  [2014.0]  \n",
       "2                                                  HDPE  [2017.0]  \n",
       "3                                                  HDPE  [2010.0]  \n",
       "4                                                  HDPE  [2010.0]  \n",
       "...                                                 ...       ...  \n",
       "1682                                                 PS       NaN  \n",
       "1683                                                 PU       NaN  \n",
       "1684                                                 PE       NaN  \n",
       "1685                                               HDPE       NaN  \n",
       "1686                                               LDPE       NaN  \n",
       "\n",
       "[1687 rows x 3 columns]"
      ]
     },
     "execution_count": 6,
     "metadata": {},
     "output_type": "execute_result"
    }
   ],
   "source": [
    "df[['doi','Plastic','Year']]"
   ]
  },
  {
   "cell_type": "code",
   "execution_count": 7,
   "id": "9634199d",
   "metadata": {},
   "outputs": [],
   "source": [
    "df_year=df[['doi','Plastic_abb.','Year']].drop_duplicates()"
   ]
  },
  {
   "cell_type": "code",
   "execution_count": 8,
   "id": "cb1447cf",
   "metadata": {},
   "outputs": [],
   "source": [
    "plastic_selected=['HDPE',\n",
    " 'LDPE',\n",
    " 'Nylon',\n",
    " 'PBS',\n",
    " 'PBSA',\n",
    " 'PCL',\n",
    " 'PE',\n",
    " 'PES',\n",
    " 'PET',\n",
    " 'PHA',\n",
    " 'PHB',\n",
    " 'PHBH',\n",
    " 'PHBV',\n",
    " 'PLA',\n",
    " 'PP',\n",
    " 'PS',\n",
    " 'PU',\n",
    " 'PVA',\n",
    " 'PVC']"
   ]
  },
  {
   "cell_type": "code",
   "execution_count": 9,
   "id": "33afa595",
   "metadata": {},
   "outputs": [
    {
     "data": {
      "text/plain": [
       "19"
      ]
     },
     "execution_count": 9,
     "metadata": {},
     "output_type": "execute_result"
    }
   ],
   "source": [
    "len(plastic_selected)"
   ]
  },
  {
   "cell_type": "code",
   "execution_count": null,
   "id": "7dafbfba",
   "metadata": {},
   "outputs": [],
   "source": []
  },
  {
   "cell_type": "markdown",
   "id": "c69aa5bf",
   "metadata": {},
   "source": [
    "## From fresh"
   ]
  },
  {
   "cell_type": "code",
   "execution_count": 10,
   "id": "8dc14a88",
   "metadata": {},
   "outputs": [],
   "source": [
    "data1=pd.read_excel('../plastic_not_in_pubmed_added.xlsx')"
   ]
  },
  {
   "cell_type": "code",
   "execution_count": 11,
   "id": "c0af5338",
   "metadata": {},
   "outputs": [
    {
     "data": {
      "text/plain": [
       "Index([' ', 'Ref', 'doi', 'Microorganism', 'Plastic',\n",
       "       'Plastic treaments/types', 'Comments', 'Evidence', 'Unnamed: 8',\n",
       "       'GenbankID', 'Year', 'Sequence', 'title', 'abstract', 'Unnamed: 14',\n",
       "       'name of journal', 'Unnamed: 16'],\n",
       "      dtype='object')"
      ]
     },
     "execution_count": 11,
     "metadata": {},
     "output_type": "execute_result"
    }
   ],
   "source": [
    "data1.columns"
   ]
  },
  {
   "cell_type": "code",
   "execution_count": 12,
   "id": "28ef83f4",
   "metadata": {},
   "outputs": [],
   "source": [
    "data1_selected=data1[['doi','Plastic','Year']].drop_duplicates()"
   ]
  },
  {
   "cell_type": "code",
   "execution_count": 14,
   "id": "7473a457",
   "metadata": {},
   "outputs": [
    {
     "name": "stdout",
     "output_type": "stream",
     "text": [
      "/home/sunny/Plastic final analysis /after kinshuk /publication_year\n"
     ]
    }
   ],
   "source": [
    "cd ../publication_year/"
   ]
  },
  {
   "cell_type": "code",
   "execution_count": 16,
   "id": "a5ba790b",
   "metadata": {},
   "outputs": [],
   "source": [
    "data2=pd.read_excel('plastic_with_pubmed.xlsx')"
   ]
  },
  {
   "cell_type": "code",
   "execution_count": 17,
   "id": "54ad7767",
   "metadata": {},
   "outputs": [
    {
     "name": "stdout",
     "output_type": "stream",
     "text": [
      "/home/sunny/Plastic final analysis /after kinshuk /reanalysis before submission 28 feb\n"
     ]
    }
   ],
   "source": [
    "cd ../reanalysis\\ before\\ submission\\ 28\\ feb/"
   ]
  },
  {
   "cell_type": "code",
   "execution_count": 18,
   "id": "ce0afda7",
   "metadata": {},
   "outputs": [
    {
     "data": {
      "text/plain": [
       "Index(['title', 'abstract', 'doi', 'pmid', 'journal', 'Plastic', 'Evidence',\n",
       "       'Microorganism', 'GenbankID', 'Year', 'Sequence'],\n",
       "      dtype='object')"
      ]
     },
     "execution_count": 18,
     "metadata": {},
     "output_type": "execute_result"
    }
   ],
   "source": [
    "data2.columns"
   ]
  },
  {
   "cell_type": "code",
   "execution_count": 19,
   "id": "9c9c4577",
   "metadata": {},
   "outputs": [],
   "source": [
    "data2_selected=data2[['doi','Plastic','Year']].drop_duplicates()"
   ]
  },
  {
   "cell_type": "code",
   "execution_count": 20,
   "id": "a6dcb349",
   "metadata": {},
   "outputs": [
    {
     "data": {
      "text/html": [
       "<div>\n",
       "<style scoped>\n",
       "    .dataframe tbody tr th:only-of-type {\n",
       "        vertical-align: middle;\n",
       "    }\n",
       "\n",
       "    .dataframe tbody tr th {\n",
       "        vertical-align: top;\n",
       "    }\n",
       "\n",
       "    .dataframe thead th {\n",
       "        text-align: right;\n",
       "    }\n",
       "</style>\n",
       "<table border=\"1\" class=\"dataframe\">\n",
       "  <thead>\n",
       "    <tr style=\"text-align: right;\">\n",
       "      <th></th>\n",
       "      <th>doi</th>\n",
       "      <th>Plastic</th>\n",
       "      <th>Year</th>\n",
       "    </tr>\n",
       "  </thead>\n",
       "  <tbody>\n",
       "    <tr>\n",
       "      <th>0</th>\n",
       "      <td>10.1128/AEM.64.5.1731-1735.1998</td>\n",
       "      <td>['BTA copolyester']</td>\n",
       "      <td>[1998.0]</td>\n",
       "    </tr>\n",
       "    <tr>\n",
       "      <th>1</th>\n",
       "      <td>10.1007/s00253-014-5860-y</td>\n",
       "      <td>['Ecoflex', 'PHB', 'PCL', 'PBSA', 'PET', 'PLA'...</td>\n",
       "      <td>[2014.0]</td>\n",
       "    </tr>\n",
       "    <tr>\n",
       "      <th>2</th>\n",
       "      <td>10.1007/s13205-017-0959-3</td>\n",
       "      <td>['HDPE']</td>\n",
       "      <td>[2017.0]</td>\n",
       "    </tr>\n",
       "    <tr>\n",
       "      <th>3</th>\n",
       "      <td>10.1111/j.1472-765X.2010.02883.x</td>\n",
       "      <td>['HDPE']</td>\n",
       "      <td>[2010.0]</td>\n",
       "    </tr>\n",
       "    <tr>\n",
       "      <th>4</th>\n",
       "      <td>10.1007/s11356-014-3191-2</td>\n",
       "      <td>['HDPE']</td>\n",
       "      <td>[2014.0]</td>\n",
       "    </tr>\n",
       "  </tbody>\n",
       "</table>\n",
       "</div>"
      ],
      "text/plain": [
       "                                doi  \\\n",
       "0   10.1128/AEM.64.5.1731-1735.1998   \n",
       "1         10.1007/s00253-014-5860-y   \n",
       "2         10.1007/s13205-017-0959-3   \n",
       "3  10.1111/j.1472-765X.2010.02883.x   \n",
       "4         10.1007/s11356-014-3191-2   \n",
       "\n",
       "                                             Plastic      Year  \n",
       "0                                ['BTA copolyester']  [1998.0]  \n",
       "1  ['Ecoflex', 'PHB', 'PCL', 'PBSA', 'PET', 'PLA'...  [2014.0]  \n",
       "2                                           ['HDPE']  [2017.0]  \n",
       "3                                           ['HDPE']  [2010.0]  \n",
       "4                                           ['HDPE']  [2014.0]  "
      ]
     },
     "execution_count": 20,
     "metadata": {},
     "output_type": "execute_result"
    }
   ],
   "source": [
    "data2_selected.head()"
   ]
  },
  {
   "cell_type": "code",
   "execution_count": 21,
   "id": "e9800348",
   "metadata": {},
   "outputs": [
    {
     "name": "stdout",
     "output_type": "stream",
     "text": [
      "/home/sunny/Plastic final analysis /after kinshuk /publication_year\n"
     ]
    }
   ],
   "source": [
    "cd ../publication_year/"
   ]
  },
  {
   "cell_type": "code",
   "execution_count": 22,
   "id": "456272c9",
   "metadata": {},
   "outputs": [],
   "source": [
    "data3=pd.read_excel('extra_data.xlsx')"
   ]
  },
  {
   "cell_type": "code",
   "execution_count": 23,
   "id": "5c30906b",
   "metadata": {},
   "outputs": [
    {
     "name": "stdout",
     "output_type": "stream",
     "text": [
      "/home/sunny/Plastic final analysis /after kinshuk /reanalysis before submission 28 feb\n"
     ]
    }
   ],
   "source": [
    "cd ../reanalysis\\ before\\ submission\\ 28\\ feb/"
   ]
  },
  {
   "cell_type": "code",
   "execution_count": 24,
   "id": "d21d49ed",
   "metadata": {},
   "outputs": [],
   "source": [
    "data3_selected=data3[['doi','Plastic','year']].drop_duplicates()"
   ]
  },
  {
   "cell_type": "code",
   "execution_count": null,
   "id": "46550b41",
   "metadata": {},
   "outputs": [],
   "source": []
  },
  {
   "cell_type": "code",
   "execution_count": null,
   "id": "29b5aad6",
   "metadata": {},
   "outputs": [],
   "source": []
  },
  {
   "cell_type": "markdown",
   "id": "b934740d",
   "metadata": {},
   "source": [
    "## expend the individual dataset"
   ]
  },
  {
   "cell_type": "code",
   "execution_count": 25,
   "id": "e94c0835",
   "metadata": {},
   "outputs": [
    {
     "name": "stdout",
     "output_type": "stream",
     "text": [
      "/home/sunny/Plastic final analysis /after kinshuk /publication_year\n"
     ]
    }
   ],
   "source": [
    "cd ../publication_year/"
   ]
  },
  {
   "cell_type": "code",
   "execution_count": 26,
   "id": "0d966993",
   "metadata": {},
   "outputs": [],
   "source": [
    "data1_from=pd.read_excel('data2_selected.xlsx')"
   ]
  },
  {
   "cell_type": "code",
   "execution_count": 27,
   "id": "6047af6c",
   "metadata": {},
   "outputs": [
    {
     "data": {
      "text/plain": [
       "Index(['Unnamed: 0', 'doi', 'Plastic', 'Year'], dtype='object')"
      ]
     },
     "execution_count": 27,
     "metadata": {},
     "output_type": "execute_result"
    }
   ],
   "source": [
    "data1_from.columns"
   ]
  },
  {
   "cell_type": "code",
   "execution_count": 28,
   "id": "3d95ca37",
   "metadata": {},
   "outputs": [],
   "source": [
    "data1_from=data1_from[['doi', 'Plastic', 'Year']]"
   ]
  },
  {
   "cell_type": "code",
   "execution_count": 29,
   "id": "bafd4634",
   "metadata": {},
   "outputs": [],
   "source": [
    "clean=[]\n",
    "for index,row in data1_from.iterrows():\n",
    "    for i in plastic_selected:\n",
    "        for j in row['Plastic'].split(','):\n",
    "            if i in j:\n",
    "                if f\"'{i}'\" in j:\n",
    "                      clean.append([row['doi'],row['Year'],i,j])"
   ]
  },
  {
   "cell_type": "code",
   "execution_count": 30,
   "id": "bf55a425",
   "metadata": {},
   "outputs": [],
   "source": [
    "data1_clean=pd.DataFrame(clean,columns=['doi', 'Year','plastic','plastic_prev.'])"
   ]
  },
  {
   "cell_type": "code",
   "execution_count": 31,
   "id": "cd7f46c2",
   "metadata": {},
   "outputs": [
    {
     "data": {
      "text/html": [
       "<div>\n",
       "<style scoped>\n",
       "    .dataframe tbody tr th:only-of-type {\n",
       "        vertical-align: middle;\n",
       "    }\n",
       "\n",
       "    .dataframe tbody tr th {\n",
       "        vertical-align: top;\n",
       "    }\n",
       "\n",
       "    .dataframe thead th {\n",
       "        text-align: right;\n",
       "    }\n",
       "</style>\n",
       "<table border=\"1\" class=\"dataframe\">\n",
       "  <thead>\n",
       "    <tr style=\"text-align: right;\">\n",
       "      <th></th>\n",
       "      <th>doi</th>\n",
       "      <th>Year</th>\n",
       "      <th>plastic</th>\n",
       "      <th>plastic_prev.</th>\n",
       "    </tr>\n",
       "  </thead>\n",
       "  <tbody>\n",
       "    <tr>\n",
       "      <th>0</th>\n",
       "      <td>10.1016/j.polymdegradstab.2009.11.042</td>\n",
       "      <td>[2010.0]</td>\n",
       "      <td>PBS</td>\n",
       "      <td>['PBS']</td>\n",
       "    </tr>\n",
       "    <tr>\n",
       "      <th>1</th>\n",
       "      <td>10.1016/j.polymdegradstab.2019.04.003</td>\n",
       "      <td>[2019.0]</td>\n",
       "      <td>PBSA</td>\n",
       "      <td>['PBSA']</td>\n",
       "    </tr>\n",
       "    <tr>\n",
       "      <th>2</th>\n",
       "      <td>10.1016/0079-6700(90)90027-X</td>\n",
       "      <td>[1990.0]</td>\n",
       "      <td>LDPE</td>\n",
       "      <td>'LDPE'</td>\n",
       "    </tr>\n",
       "    <tr>\n",
       "      <th>3</th>\n",
       "      <td>10.1023/A:1021873631162</td>\n",
       "      <td>[1998.0]</td>\n",
       "      <td>LDPE</td>\n",
       "      <td>'LDPE'</td>\n",
       "    </tr>\n",
       "    <tr>\n",
       "      <th>4</th>\n",
       "      <td>10.17957/IJAB/15.0023</td>\n",
       "      <td>[2015.0]</td>\n",
       "      <td>PHB</td>\n",
       "      <td>['PHB']</td>\n",
       "    </tr>\n",
       "  </tbody>\n",
       "</table>\n",
       "</div>"
      ],
      "text/plain": [
       "                                     doi      Year plastic plastic_prev.\n",
       "0  10.1016/j.polymdegradstab.2009.11.042  [2010.0]     PBS       ['PBS']\n",
       "1  10.1016/j.polymdegradstab.2019.04.003  [2019.0]    PBSA      ['PBSA']\n",
       "2           10.1016/0079-6700(90)90027-X  [1990.0]    LDPE        'LDPE'\n",
       "3                10.1023/A:1021873631162  [1998.0]    LDPE        'LDPE'\n",
       "4                  10.17957/IJAB/15.0023  [2015.0]     PHB       ['PHB']"
      ]
     },
     "execution_count": 31,
     "metadata": {},
     "output_type": "execute_result"
    }
   ],
   "source": [
    "data1_clean.head()"
   ]
  },
  {
   "cell_type": "code",
   "execution_count": null,
   "id": "5b54159f",
   "metadata": {},
   "outputs": [],
   "source": []
  },
  {
   "cell_type": "code",
   "execution_count": null,
   "id": "eb0629f3",
   "metadata": {},
   "outputs": [],
   "source": []
  },
  {
   "cell_type": "markdown",
   "id": "99d26bd1",
   "metadata": {},
   "source": [
    "## data2"
   ]
  },
  {
   "cell_type": "code",
   "execution_count": 32,
   "id": "5b649477",
   "metadata": {},
   "outputs": [],
   "source": [
    "clean=[]\n",
    "for index,row in data2_selected.iterrows():\n",
    "    for i in plastic_selected:\n",
    "        for j in row['Plastic'].split(','):\n",
    "            if i in j:\n",
    "                if f\"'{i}'\" in j:\n",
    "                       clean.append([row['doi'],row['Year'],i,j]) "
   ]
  },
  {
   "cell_type": "code",
   "execution_count": 33,
   "id": "fb3c8df3",
   "metadata": {},
   "outputs": [],
   "source": [
    "data2_clean=pd.DataFrame(clean,columns=['doi', 'Year','plastic','plastic_prev.'])"
   ]
  },
  {
   "cell_type": "code",
   "execution_count": 34,
   "id": "e0cc052b",
   "metadata": {},
   "outputs": [
    {
     "data": {
      "text/html": [
       "<div>\n",
       "<style scoped>\n",
       "    .dataframe tbody tr th:only-of-type {\n",
       "        vertical-align: middle;\n",
       "    }\n",
       "\n",
       "    .dataframe tbody tr th {\n",
       "        vertical-align: top;\n",
       "    }\n",
       "\n",
       "    .dataframe thead th {\n",
       "        text-align: right;\n",
       "    }\n",
       "</style>\n",
       "<table border=\"1\" class=\"dataframe\">\n",
       "  <thead>\n",
       "    <tr style=\"text-align: right;\">\n",
       "      <th></th>\n",
       "      <th>doi</th>\n",
       "      <th>Year</th>\n",
       "      <th>plastic</th>\n",
       "      <th>plastic_prev.</th>\n",
       "    </tr>\n",
       "  </thead>\n",
       "  <tbody>\n",
       "    <tr>\n",
       "      <th>0</th>\n",
       "      <td>10.1007/s00253-014-5860-y</td>\n",
       "      <td>[2014.0]</td>\n",
       "      <td>PBS</td>\n",
       "      <td>'PBS']</td>\n",
       "    </tr>\n",
       "    <tr>\n",
       "      <th>1</th>\n",
       "      <td>10.1007/s00253-014-5860-y</td>\n",
       "      <td>[2014.0]</td>\n",
       "      <td>PBSA</td>\n",
       "      <td>'PBSA'</td>\n",
       "    </tr>\n",
       "    <tr>\n",
       "      <th>2</th>\n",
       "      <td>10.1007/s00253-014-5860-y</td>\n",
       "      <td>[2014.0]</td>\n",
       "      <td>PCL</td>\n",
       "      <td>'PCL'</td>\n",
       "    </tr>\n",
       "    <tr>\n",
       "      <th>3</th>\n",
       "      <td>10.1007/s00253-014-5860-y</td>\n",
       "      <td>[2014.0]</td>\n",
       "      <td>PET</td>\n",
       "      <td>'PET'</td>\n",
       "    </tr>\n",
       "    <tr>\n",
       "      <th>4</th>\n",
       "      <td>10.1007/s00253-014-5860-y</td>\n",
       "      <td>[2014.0]</td>\n",
       "      <td>PHB</td>\n",
       "      <td>'PHB'</td>\n",
       "    </tr>\n",
       "  </tbody>\n",
       "</table>\n",
       "</div>"
      ],
      "text/plain": [
       "                         doi      Year plastic plastic_prev.\n",
       "0  10.1007/s00253-014-5860-y  [2014.0]     PBS        'PBS']\n",
       "1  10.1007/s00253-014-5860-y  [2014.0]    PBSA        'PBSA'\n",
       "2  10.1007/s00253-014-5860-y  [2014.0]     PCL         'PCL'\n",
       "3  10.1007/s00253-014-5860-y  [2014.0]     PET         'PET'\n",
       "4  10.1007/s00253-014-5860-y  [2014.0]     PHB         'PHB'"
      ]
     },
     "execution_count": 34,
     "metadata": {},
     "output_type": "execute_result"
    }
   ],
   "source": [
    "data2_clean.head()"
   ]
  },
  {
   "cell_type": "code",
   "execution_count": 35,
   "id": "5415ad03",
   "metadata": {
    "collapsed": true
   },
   "outputs": [
    {
     "name": "stdout",
     "output_type": "stream",
     "text": [
      "0\n",
      "[2014.0]\n",
      "1\n",
      "[2014.0]\n",
      "2\n",
      "[2014.0]\n",
      "3\n",
      "[2014.0]\n",
      "4\n",
      "[2014.0]\n",
      "5\n",
      "[2014.0]\n",
      "6\n",
      "[2017.0]\n",
      "7\n",
      "[2010.0]\n",
      "8\n",
      "[2014.0]\n",
      "9\n",
      "[2015.0]\n",
      "10\n",
      "[2019.0]\n",
      "11\n",
      "[2016.0]\n",
      "12\n",
      "[2019.0]\n",
      "13\n",
      "[2019.0]\n",
      "14\n",
      "[2019.0]\n",
      "15\n",
      "[2018.0]\n",
      "16\n",
      "[2017.0]\n",
      "17\n",
      "[2017.0]\n",
      "18\n",
      "[2008.0]\n",
      "19\n",
      "[2017.0]\n",
      "20\n",
      "[2017.0]\n",
      "21\n",
      "[2014.0]\n",
      "22\n",
      "[2013.0]\n",
      "23\n",
      "[2016.0]\n",
      "24\n",
      "[2013.0]\n",
      "25\n",
      "[2012.0]\n",
      "26\n",
      "[2018.0]\n",
      "27\n",
      "[2016.0]\n",
      "28\n",
      "[2013.0]\n",
      "29\n",
      "[2010.0]\n",
      "30\n",
      "[1997.0]\n",
      "31\n",
      "[1999.0]\n",
      "32\n",
      "[2012.0]\n",
      "33\n",
      "[2017.0]\n",
      "34\n",
      "[2007.0]\n",
      "35\n",
      "[2003.0]\n",
      "36\n",
      "[2007.0]\n",
      "37\n",
      "[2005.0]\n",
      "38\n",
      "[2000.0]\n",
      "39\n",
      "[2004.0]\n",
      "40\n",
      "[2012.0]\n",
      "41\n",
      "[2012.0]\n",
      "42\n",
      "[2012.0]\n",
      "43\n",
      "[1999.0]\n",
      "44\n",
      "[1999.0]\n",
      "45\n",
      "[2004.0]\n",
      "46\n",
      "[2004.0]\n",
      "47\n",
      "[2004.0]\n",
      "48\n",
      "[2004.0]\n",
      "49\n",
      "[2004.0]\n",
      "50\n",
      "[2004.0]\n",
      "51\n",
      "[2012.0]\n",
      "52\n",
      "[2012.0]\n",
      "53\n",
      "[2016.0]\n",
      "54\n",
      "[2016.0]\n",
      "55\n",
      "[2005.0]\n",
      "56\n",
      "[2005.0]\n",
      "57\n",
      "[2005.0]\n",
      "58\n",
      "[2005.0]\n",
      "59\n",
      "[2005.0]\n",
      "60\n",
      "[2005.0]\n",
      "61\n",
      "[2008.0]\n",
      "62\n",
      "[2008.0]\n",
      "63\n",
      "[2008.0]\n",
      "64\n",
      "[2008.0]\n",
      "65\n",
      "[2008.0]\n",
      "66\n",
      "[2008.0]\n",
      "67\n",
      "[2019.0]\n",
      "68\n",
      "[2019.0]\n",
      "69\n",
      "[2019.0]\n",
      "70\n",
      "[2003.0]\n",
      "71\n",
      "[2003.0]\n",
      "72\n",
      "[2003.0]\n",
      "73\n",
      "[2003.0]\n",
      "74\n",
      "[2003.0]\n",
      "75\n",
      "[2002.0]\n",
      "76\n",
      "[2017.0]\n",
      "77\n",
      "[2017.0]\n",
      "78\n",
      "[2017.0]\n",
      "79\n",
      "[2017.0]\n",
      "80\n",
      "[2016.0]\n",
      "81\n",
      "[2016.0]\n",
      "82\n",
      "[2016.0]\n",
      "83\n",
      "[2012.0]\n",
      "84\n",
      "[2009.0]\n",
      "85\n",
      "[2009.0]\n",
      "86\n",
      "[2009.0]\n",
      "87\n",
      "[2016.0]\n",
      "88\n",
      "[2000.0]\n",
      "89\n",
      "[2020.0]\n",
      "90\n",
      "[2014.0]\n",
      "91\n",
      "[2001.0, 2004.0]\n",
      "92\n",
      "[2001.0, 2004.0]\n",
      "93\n",
      "[2017.0]\n",
      "94\n",
      "[2019.0]\n",
      "95\n",
      "[2013.0]\n",
      "96\n",
      "[nan, nan, 2018.0, nan, nan, nan]\n",
      "97\n",
      "[nan, nan, 2018.0, nan, nan, nan]\n",
      "98\n",
      "[2015.0]\n",
      "99\n",
      "[2015.0]\n",
      "100\n",
      "[2010.0]\n",
      "101\n",
      "[2005.0]\n",
      "102\n",
      "[2005.0]\n",
      "103\n",
      "[2005.0]\n",
      "104\n",
      "[2016.0]\n",
      "105\n",
      "[2012.0]\n",
      "106\n",
      "[2009.0]\n",
      "107\n",
      "[2020.0]\n",
      "108\n",
      "[2020.0]\n",
      "109\n",
      "[1996.0]\n",
      "110\n",
      "[2006.0]\n",
      "111\n",
      "[2015.0]\n",
      "112\n",
      "[2008.0]\n",
      "113\n",
      "[2008.0]\n",
      "114\n",
      "[2007.0]\n",
      "115\n",
      "[2007.0]\n",
      "116\n",
      "[1997.0]\n",
      "117\n",
      "[2012.0]\n",
      "118\n",
      "[2012.0]\n",
      "119\n",
      "[1998.0]\n",
      "120\n",
      "[1998.0]\n",
      "121\n",
      "[1988.0]\n",
      "122\n",
      "[2019.0]\n",
      "123\n",
      "[2019.0]\n",
      "124\n",
      "[2007.0]\n",
      "125\n",
      "[2005.0]\n",
      "126\n",
      "[2017.0]\n",
      "127\n",
      "[2017.0]\n",
      "128\n",
      "[2017.0]\n",
      "129\n",
      "[2017.0]\n",
      "130\n",
      "[2019.0]\n",
      "131\n",
      "[2015.0]\n",
      "132\n",
      "[2019.0]\n",
      "133\n",
      "[2013.0]\n",
      "134\n",
      "[2013.0]\n",
      "135\n",
      "[2005.0]\n",
      "136\n",
      "[2003.0]\n",
      "137\n",
      "[2008.0]\n",
      "138\n",
      "[2004.0]\n",
      "139\n",
      "[2017.0]\n",
      "140\n",
      "[2017.0]\n",
      "141\n",
      "[1992.0]\n",
      "142\n",
      "[2019.0]\n",
      "143\n",
      "[2018.0]\n",
      "144\n",
      "[2016.0]\n",
      "145\n",
      "[2016.0]\n",
      "146\n",
      "[2019.0]\n",
      "147\n",
      "[2006.0]\n",
      "148\n",
      "[2014.0]\n",
      "149\n",
      "[2013.0]\n",
      "150\n",
      "[2014.0]\n",
      "151\n",
      "[2015.0]\n",
      "152\n",
      "[2018.0]\n",
      "153\n",
      "[2020.0]\n",
      "154\n",
      "[2006.0]\n",
      "155\n",
      "[2006.0]\n",
      "156\n",
      "[2006.0]\n",
      "157\n",
      "[2014.0]\n",
      "158\n",
      "[2012.0]\n",
      "159\n",
      "[2020.0]\n",
      "160\n",
      "[2020.0]\n",
      "161\n",
      "[2018.0]\n",
      "162\n",
      "[2015.0]\n",
      "163\n",
      "[2014.0]\n",
      "164\n",
      "[2017.0]\n",
      "165\n",
      "[2012.0]\n",
      "166\n",
      "[2005.0]\n",
      "167\n",
      "[2018.0]\n",
      "168\n",
      "[2001.0]\n",
      "169\n",
      "[2001.0]\n",
      "170\n",
      "[1991.0]\n",
      "171\n",
      "[2013.0]\n",
      "172\n",
      "[2015.0]\n",
      "173\n",
      "[2015.0]\n",
      "174\n",
      "[1995.0]\n",
      "175\n",
      "[2018.0]\n",
      "176\n",
      "[2018.0]\n",
      "177\n",
      "[2003.0]\n",
      "178\n",
      "[1997.0]\n",
      "179\n",
      "[2003.0]\n",
      "180\n",
      "[2002.0]\n",
      "181\n",
      "[2003.0]\n",
      "182\n",
      "[1995.0]\n",
      "183\n",
      "[1997.0]\n",
      "184\n",
      "[2001.0]\n",
      "185\n",
      "[2001.0]\n",
      "186\n",
      "[2018.0]\n",
      "187\n",
      "[1992.0]\n",
      "188\n",
      "[1992.0]\n",
      "189\n",
      "[1993.0]\n",
      "190\n",
      "[1993.0]\n",
      "191\n",
      "[1995.0]\n",
      "192\n",
      "[2014.0]\n",
      "193\n",
      "[1999.0]\n",
      "194\n",
      "[1999.0]\n",
      "195\n",
      "[2004.0]\n",
      "196\n",
      "[2011.0]\n",
      "197\n",
      "[2011.0]\n",
      "198\n",
      "[2006.0]\n",
      "199\n",
      "[2002.0]\n",
      "200\n",
      "[2014.0]\n",
      "201\n",
      "[2016.0]\n",
      "202\n",
      "[2018.0]\n",
      "203\n",
      "[2018.0]\n",
      "204\n",
      "[2002.0]\n",
      "205\n",
      "[1998.0]\n",
      "206\n",
      "[1998.0]\n",
      "207\n",
      "[2003.0]\n",
      "208\n",
      "[2011.0]\n",
      "209\n",
      "[2019.0]\n",
      "210\n",
      "[2011.0]\n",
      "211\n",
      "[2014.0]\n",
      "212\n",
      "[2014.0]\n",
      "213\n",
      "[2003.0]\n",
      "214\n",
      "[2003.0]\n",
      "215\n",
      "[2006.0]\n",
      "216\n",
      "[2017.0]\n",
      "217\n",
      "[2016.0]\n",
      "218\n",
      "[2016.0]\n",
      "219\n",
      "[2012.0]\n",
      "220\n",
      "[2016.0]\n",
      "221\n",
      "[2001.0]\n",
      "222\n",
      "[2017.0]\n",
      "223\n",
      "[1997.0]\n",
      "224\n",
      "[2001.0]\n",
      "225\n",
      "[2009.0]\n",
      "226\n",
      "[1999.0]\n",
      "227\n",
      "[1996.0]\n",
      "228\n",
      "[2016.0]\n",
      "229\n",
      "[2018.0]\n",
      "230\n",
      "[2013.0]\n",
      "231\n",
      "[2017.0]\n",
      "232\n",
      "[2016.0]\n",
      "233\n",
      "[2017.0]\n",
      "234\n",
      "[2015.0]\n",
      "235\n",
      "[2016.0]\n",
      "236\n",
      "[2003.0]\n",
      "237\n",
      "[2018.0]\n",
      "238\n",
      "[2007.0]\n",
      "239\n",
      "[2007.0]\n",
      "240\n",
      "[2007.0]\n",
      "241\n",
      "[2012.0]\n",
      "242\n",
      "[2016.0]\n",
      "243\n",
      "[1991.0]\n",
      "244\n",
      "[2017.0]\n",
      "245\n",
      "[2010.0]\n",
      "246\n",
      "[1995.0]\n",
      "247\n",
      "[2007.0]\n",
      "248\n",
      "[2014.0]\n",
      "249\n",
      "[2011.0]\n",
      "250\n",
      "[2013.0]\n",
      "251\n",
      "[2018.0]\n",
      "252\n",
      "[2000.0]\n",
      "253\n",
      "[2014.0]\n",
      "254\n",
      "[2019.0]\n",
      "255\n",
      "[2007.0]\n",
      "256\n",
      "[2002.0]\n",
      "257\n",
      "[2019.0]\n",
      "258\n",
      "[1983.0]\n",
      "259\n",
      "[1996.0]\n",
      "260\n",
      "[2011.0]\n",
      "261\n",
      "[2013.0]\n",
      "262\n",
      "[2018.0]\n",
      "263\n",
      "[2018.0]\n",
      "264\n",
      "[2014.0]\n",
      "265\n",
      "[2019.0]\n",
      "266\n",
      "[1999.0]\n",
      "267\n",
      "[2003.0]\n",
      "268\n",
      "[2016.0]\n"
     ]
    }
   ],
   "source": [
    "for index,row in data2_clean.iterrows():\n",
    "    print(index)\n",
    "    print(row['Year'])"
   ]
  },
  {
   "cell_type": "code",
   "execution_count": 36,
   "id": "429f8916",
   "metadata": {},
   "outputs": [],
   "source": [
    "data2_clean.iloc[91]['Year']='[2001.0]'\n",
    "data2_clean.iloc[92]['Year']='[2001.0]'\n",
    "data2_clean.iloc[96]['Year']='[2018.0]'\n",
    "data2_clean.iloc[97]['Year']='[2018.0]'"
   ]
  },
  {
   "cell_type": "code",
   "execution_count": 37,
   "id": "48878a3a",
   "metadata": {},
   "outputs": [],
   "source": [
    "data2_clean['Year']=[ i[i.find('[')+1:i.find('.')] for i in data2_clean.Year]"
   ]
  },
  {
   "cell_type": "markdown",
   "id": "8f4bb9aa",
   "metadata": {},
   "source": [
    "## data3"
   ]
  },
  {
   "cell_type": "code",
   "execution_count": 38,
   "id": "38f9ce4a",
   "metadata": {},
   "outputs": [
    {
     "data": {
      "text/html": [
       "<div>\n",
       "<style scoped>\n",
       "    .dataframe tbody tr th:only-of-type {\n",
       "        vertical-align: middle;\n",
       "    }\n",
       "\n",
       "    .dataframe tbody tr th {\n",
       "        vertical-align: top;\n",
       "    }\n",
       "\n",
       "    .dataframe thead th {\n",
       "        text-align: right;\n",
       "    }\n",
       "</style>\n",
       "<table border=\"1\" class=\"dataframe\">\n",
       "  <thead>\n",
       "    <tr style=\"text-align: right;\">\n",
       "      <th></th>\n",
       "      <th>doi</th>\n",
       "      <th>Plastic</th>\n",
       "      <th>year</th>\n",
       "    </tr>\n",
       "  </thead>\n",
       "  <tbody>\n",
       "    <tr>\n",
       "      <th>0</th>\n",
       "      <td>10.1002/app.26328</td>\n",
       "      <td>LDPE</td>\n",
       "      <td>2007.0</td>\n",
       "    </tr>\n",
       "    <tr>\n",
       "      <th>1</th>\n",
       "      <td>10.1002/biot.201000391</td>\n",
       "      <td>PET</td>\n",
       "      <td>2011.0</td>\n",
       "    </tr>\n",
       "    <tr>\n",
       "      <th>2</th>\n",
       "      <td>10.1002/btpr.610</td>\n",
       "      <td>PET</td>\n",
       "      <td>2011.0</td>\n",
       "    </tr>\n",
       "    <tr>\n",
       "      <th>3</th>\n",
       "      <td>10.1002/ep.12467</td>\n",
       "      <td>LDPE</td>\n",
       "      <td>2016.0</td>\n",
       "    </tr>\n",
       "    <tr>\n",
       "      <th>5</th>\n",
       "      <td>10.1002/jctb.5489</td>\n",
       "      <td>PE</td>\n",
       "      <td>2017.0</td>\n",
       "    </tr>\n",
       "  </tbody>\n",
       "</table>\n",
       "</div>"
      ],
      "text/plain": [
       "                      doi Plastic    year\n",
       "0       10.1002/app.26328    LDPE  2007.0\n",
       "1  10.1002/biot.201000391     PET  2011.0\n",
       "2        10.1002/btpr.610     PET  2011.0\n",
       "3        10.1002/ep.12467    LDPE  2016.0\n",
       "5       10.1002/jctb.5489      PE  2017.0"
      ]
     },
     "execution_count": 38,
     "metadata": {},
     "output_type": "execute_result"
    }
   ],
   "source": [
    "data3_selected.head()"
   ]
  },
  {
   "cell_type": "code",
   "execution_count": 39,
   "id": "580274ee",
   "metadata": {},
   "outputs": [],
   "source": [
    "clean=[]\n",
    "for index,row in data3_selected.iterrows():\n",
    "    for i in plastic_selected:\n",
    "        if i in  row['Plastic']:\n",
    "            #print(row['Plastic'])\n",
    "            if f\"'{i}'\" in f\"'{row['Plastic']}'\":\n",
    "                    #print(i,row['Plastic'])\n",
    "                    clean.append([row['doi'],row['year'],i,row['Plastic']])                  \n",
    "            "
   ]
  },
  {
   "cell_type": "code",
   "execution_count": 40,
   "id": "12cab61d",
   "metadata": {},
   "outputs": [],
   "source": [
    "data3_clean=pd.DataFrame(clean,columns=['doi', 'Year','plastic','plastic_prev.'])"
   ]
  },
  {
   "cell_type": "code",
   "execution_count": 41,
   "id": "ce2db9fc",
   "metadata": {},
   "outputs": [],
   "source": [
    "data_combine= pd.concat([data1_clean,data2_clean,data3_clean])"
   ]
  },
  {
   "cell_type": "code",
   "execution_count": 42,
   "id": "2116911e",
   "metadata": {},
   "outputs": [
    {
     "data": {
      "text/html": [
       "<div>\n",
       "<style scoped>\n",
       "    .dataframe tbody tr th:only-of-type {\n",
       "        vertical-align: middle;\n",
       "    }\n",
       "\n",
       "    .dataframe tbody tr th {\n",
       "        vertical-align: top;\n",
       "    }\n",
       "\n",
       "    .dataframe thead th {\n",
       "        text-align: right;\n",
       "    }\n",
       "</style>\n",
       "<table border=\"1\" class=\"dataframe\">\n",
       "  <thead>\n",
       "    <tr style=\"text-align: right;\">\n",
       "      <th></th>\n",
       "      <th>doi</th>\n",
       "      <th>Year</th>\n",
       "      <th>plastic</th>\n",
       "      <th>plastic_prev.</th>\n",
       "    </tr>\n",
       "  </thead>\n",
       "  <tbody>\n",
       "    <tr>\n",
       "      <th>0</th>\n",
       "      <td>10.1016/j.polymdegradstab.2009.11.042</td>\n",
       "      <td>[2010.0]</td>\n",
       "      <td>PBS</td>\n",
       "      <td>['PBS']</td>\n",
       "    </tr>\n",
       "    <tr>\n",
       "      <th>1</th>\n",
       "      <td>10.1016/j.polymdegradstab.2019.04.003</td>\n",
       "      <td>[2019.0]</td>\n",
       "      <td>PBSA</td>\n",
       "      <td>['PBSA']</td>\n",
       "    </tr>\n",
       "    <tr>\n",
       "      <th>2</th>\n",
       "      <td>10.1016/0079-6700(90)90027-X</td>\n",
       "      <td>[1990.0]</td>\n",
       "      <td>LDPE</td>\n",
       "      <td>'LDPE'</td>\n",
       "    </tr>\n",
       "    <tr>\n",
       "      <th>3</th>\n",
       "      <td>10.1023/A:1021873631162</td>\n",
       "      <td>[1998.0]</td>\n",
       "      <td>LDPE</td>\n",
       "      <td>'LDPE'</td>\n",
       "    </tr>\n",
       "    <tr>\n",
       "      <th>4</th>\n",
       "      <td>10.17957/IJAB/15.0023</td>\n",
       "      <td>[2015.0]</td>\n",
       "      <td>PHB</td>\n",
       "      <td>['PHB']</td>\n",
       "    </tr>\n",
       "  </tbody>\n",
       "</table>\n",
       "</div>"
      ],
      "text/plain": [
       "                                     doi      Year plastic plastic_prev.\n",
       "0  10.1016/j.polymdegradstab.2009.11.042  [2010.0]     PBS       ['PBS']\n",
       "1  10.1016/j.polymdegradstab.2019.04.003  [2019.0]    PBSA      ['PBSA']\n",
       "2           10.1016/0079-6700(90)90027-X  [1990.0]    LDPE        'LDPE'\n",
       "3                10.1023/A:1021873631162  [1998.0]    LDPE        'LDPE'\n",
       "4                  10.17957/IJAB/15.0023  [2015.0]     PHB       ['PHB']"
      ]
     },
     "execution_count": 42,
     "metadata": {},
     "output_type": "execute_result"
    }
   ],
   "source": [
    "data_combine.head()"
   ]
  },
  {
   "cell_type": "code",
   "execution_count": 43,
   "id": "34762dae",
   "metadata": {},
   "outputs": [
    {
     "data": {
      "text/plain": [
       "428"
      ]
     },
     "execution_count": 43,
     "metadata": {},
     "output_type": "execute_result"
    }
   ],
   "source": [
    "len(data_combine['doi'].unique())"
   ]
  },
  {
   "cell_type": "code",
   "execution_count": 44,
   "id": "232a0281",
   "metadata": {},
   "outputs": [
    {
     "data": {
      "text/plain": [
       "(591, 4)"
      ]
     },
     "execution_count": 44,
     "metadata": {},
     "output_type": "execute_result"
    }
   ],
   "source": [
    "data_combine.shape"
   ]
  },
  {
   "cell_type": "code",
   "execution_count": 45,
   "id": "7d43aed4",
   "metadata": {},
   "outputs": [
    {
     "data": {
      "text/html": [
       "<div>\n",
       "<style scoped>\n",
       "    .dataframe tbody tr th:only-of-type {\n",
       "        vertical-align: middle;\n",
       "    }\n",
       "\n",
       "    .dataframe tbody tr th {\n",
       "        vertical-align: top;\n",
       "    }\n",
       "\n",
       "    .dataframe thead th {\n",
       "        text-align: right;\n",
       "    }\n",
       "</style>\n",
       "<table border=\"1\" class=\"dataframe\">\n",
       "  <thead>\n",
       "    <tr style=\"text-align: right;\">\n",
       "      <th></th>\n",
       "      <th>doi</th>\n",
       "      <th>Year</th>\n",
       "      <th>plastic</th>\n",
       "    </tr>\n",
       "  </thead>\n",
       "  <tbody>\n",
       "    <tr>\n",
       "      <th>0</th>\n",
       "      <td>10.1016/j.polymdegradstab.2009.11.042</td>\n",
       "      <td>[2010.0]</td>\n",
       "      <td>PBS</td>\n",
       "    </tr>\n",
       "    <tr>\n",
       "      <th>1</th>\n",
       "      <td>10.1016/j.polymdegradstab.2019.04.003</td>\n",
       "      <td>[2019.0]</td>\n",
       "      <td>PBSA</td>\n",
       "    </tr>\n",
       "    <tr>\n",
       "      <th>2</th>\n",
       "      <td>10.1016/0079-6700(90)90027-X</td>\n",
       "      <td>[1990.0]</td>\n",
       "      <td>LDPE</td>\n",
       "    </tr>\n",
       "    <tr>\n",
       "      <th>3</th>\n",
       "      <td>10.1023/A:1021873631162</td>\n",
       "      <td>[1998.0]</td>\n",
       "      <td>LDPE</td>\n",
       "    </tr>\n",
       "    <tr>\n",
       "      <th>4</th>\n",
       "      <td>10.17957/IJAB/15.0023</td>\n",
       "      <td>[2015.0]</td>\n",
       "      <td>PHB</td>\n",
       "    </tr>\n",
       "    <tr>\n",
       "      <th>...</th>\n",
       "      <td>...</td>\n",
       "      <td>...</td>\n",
       "      <td>...</td>\n",
       "    </tr>\n",
       "    <tr>\n",
       "      <th>114</th>\n",
       "      <td>http://www.journalcra.com/sites/default/files/...</td>\n",
       "      <td>2016.0</td>\n",
       "      <td>LDPE</td>\n",
       "    </tr>\n",
       "    <tr>\n",
       "      <th>115</th>\n",
       "      <td>http://www.journalcra.com/sites/default/files/...</td>\n",
       "      <td>2016.0</td>\n",
       "      <td>PU</td>\n",
       "    </tr>\n",
       "    <tr>\n",
       "      <th>116</th>\n",
       "      <td>https://www.researchgate.net/publication/32612...</td>\n",
       "      <td>2018.0</td>\n",
       "      <td>HDPE</td>\n",
       "    </tr>\n",
       "    <tr>\n",
       "      <th>117</th>\n",
       "      <td>https://www.researchgate.net/publication/32612...</td>\n",
       "      <td>2018.0</td>\n",
       "      <td>LDPE</td>\n",
       "    </tr>\n",
       "    <tr>\n",
       "      <th>118</th>\n",
       "      <td>https://www.researchgate.net/publication/32720...</td>\n",
       "      <td>2018.0</td>\n",
       "      <td>LDPE</td>\n",
       "    </tr>\n",
       "  </tbody>\n",
       "</table>\n",
       "<p>591 rows × 3 columns</p>\n",
       "</div>"
      ],
      "text/plain": [
       "                                                   doi      Year plastic\n",
       "0                10.1016/j.polymdegradstab.2009.11.042  [2010.0]     PBS\n",
       "1                10.1016/j.polymdegradstab.2019.04.003  [2019.0]    PBSA\n",
       "2                         10.1016/0079-6700(90)90027-X  [1990.0]    LDPE\n",
       "3                              10.1023/A:1021873631162  [1998.0]    LDPE\n",
       "4                                10.17957/IJAB/15.0023  [2015.0]     PHB\n",
       "..                                                 ...       ...     ...\n",
       "114  http://www.journalcra.com/sites/default/files/...    2016.0    LDPE\n",
       "115  http://www.journalcra.com/sites/default/files/...    2016.0      PU\n",
       "116  https://www.researchgate.net/publication/32612...    2018.0    HDPE\n",
       "117  https://www.researchgate.net/publication/32612...    2018.0    LDPE\n",
       "118  https://www.researchgate.net/publication/32720...    2018.0    LDPE\n",
       "\n",
       "[591 rows x 3 columns]"
      ]
     },
     "execution_count": 45,
     "metadata": {},
     "output_type": "execute_result"
    }
   ],
   "source": [
    "data_combine[['doi', 'Year','plastic']].drop_duplicates()"
   ]
  },
  {
   "cell_type": "code",
   "execution_count": 46,
   "id": "98bb0d0d",
   "metadata": {},
   "outputs": [
    {
     "data": {
      "text/plain": [
       "['HDPE',\n",
       " 'LDPE',\n",
       " 'Nylon',\n",
       " 'PBS',\n",
       " 'PBSA',\n",
       " 'PCL',\n",
       " 'PE',\n",
       " 'PES',\n",
       " 'PET',\n",
       " 'PHA',\n",
       " 'PHB',\n",
       " 'PHBH',\n",
       " 'PHBV',\n",
       " 'PLA',\n",
       " 'PP',\n",
       " 'PS',\n",
       " 'PU',\n",
       " 'PVA',\n",
       " 'PVC']"
      ]
     },
     "execution_count": 46,
     "metadata": {},
     "output_type": "execute_result"
    }
   ],
   "source": [
    "plastic_selected"
   ]
  },
  {
   "cell_type": "code",
   "execution_count": 47,
   "id": "ac8c336e",
   "metadata": {},
   "outputs": [],
   "source": [
    "Carbon = ['PP', 'PS','PE','HDPE', 'LDPE','PVA','PVC']"
   ]
  },
  {
   "cell_type": "code",
   "execution_count": 48,
   "id": "3ae4890a",
   "metadata": {},
   "outputs": [],
   "source": [
    "clas=[]\n",
    "for _,row in data_combine.iterrows():\n",
    "    if row['plastic'] in Carbon:\n",
    "        clas.append('Non-hydrolyzable')\n",
    "    else:\n",
    "        clas.append('Hydrolyzable')"
   ]
  },
  {
   "cell_type": "code",
   "execution_count": 49,
   "id": "41817932",
   "metadata": {},
   "outputs": [],
   "source": [
    "data_combine['Plastic class']=clas"
   ]
  },
  {
   "cell_type": "code",
   "execution_count": 50,
   "id": "218aff8f",
   "metadata": {},
   "outputs": [
    {
     "data": {
      "text/html": [
       "<div>\n",
       "<style scoped>\n",
       "    .dataframe tbody tr th:only-of-type {\n",
       "        vertical-align: middle;\n",
       "    }\n",
       "\n",
       "    .dataframe tbody tr th {\n",
       "        vertical-align: top;\n",
       "    }\n",
       "\n",
       "    .dataframe thead th {\n",
       "        text-align: right;\n",
       "    }\n",
       "</style>\n",
       "<table border=\"1\" class=\"dataframe\">\n",
       "  <thead>\n",
       "    <tr style=\"text-align: right;\">\n",
       "      <th></th>\n",
       "      <th>doi</th>\n",
       "      <th>Year</th>\n",
       "      <th>plastic</th>\n",
       "      <th>plastic_prev.</th>\n",
       "      <th>Plastic class</th>\n",
       "    </tr>\n",
       "  </thead>\n",
       "  <tbody>\n",
       "    <tr>\n",
       "      <th>0</th>\n",
       "      <td>10.1016/j.polymdegradstab.2009.11.042</td>\n",
       "      <td>[2010.0]</td>\n",
       "      <td>PBS</td>\n",
       "      <td>['PBS']</td>\n",
       "      <td>Hydrolyzable</td>\n",
       "    </tr>\n",
       "    <tr>\n",
       "      <th>1</th>\n",
       "      <td>10.1016/j.polymdegradstab.2019.04.003</td>\n",
       "      <td>[2019.0]</td>\n",
       "      <td>PBSA</td>\n",
       "      <td>['PBSA']</td>\n",
       "      <td>Hydrolyzable</td>\n",
       "    </tr>\n",
       "    <tr>\n",
       "      <th>2</th>\n",
       "      <td>10.1016/0079-6700(90)90027-X</td>\n",
       "      <td>[1990.0]</td>\n",
       "      <td>LDPE</td>\n",
       "      <td>'LDPE'</td>\n",
       "      <td>Non-hydrolyzable</td>\n",
       "    </tr>\n",
       "    <tr>\n",
       "      <th>3</th>\n",
       "      <td>10.1023/A:1021873631162</td>\n",
       "      <td>[1998.0]</td>\n",
       "      <td>LDPE</td>\n",
       "      <td>'LDPE'</td>\n",
       "      <td>Non-hydrolyzable</td>\n",
       "    </tr>\n",
       "    <tr>\n",
       "      <th>4</th>\n",
       "      <td>10.17957/IJAB/15.0023</td>\n",
       "      <td>[2015.0]</td>\n",
       "      <td>PHB</td>\n",
       "      <td>['PHB']</td>\n",
       "      <td>Hydrolyzable</td>\n",
       "    </tr>\n",
       "  </tbody>\n",
       "</table>\n",
       "</div>"
      ],
      "text/plain": [
       "                                     doi      Year plastic plastic_prev.  \\\n",
       "0  10.1016/j.polymdegradstab.2009.11.042  [2010.0]     PBS       ['PBS']   \n",
       "1  10.1016/j.polymdegradstab.2019.04.003  [2019.0]    PBSA      ['PBSA']   \n",
       "2           10.1016/0079-6700(90)90027-X  [1990.0]    LDPE        'LDPE'   \n",
       "3                10.1023/A:1021873631162  [1998.0]    LDPE        'LDPE'   \n",
       "4                  10.17957/IJAB/15.0023  [2015.0]     PHB       ['PHB']   \n",
       "\n",
       "      Plastic class  \n",
       "0      Hydrolyzable  \n",
       "1      Hydrolyzable  \n",
       "2  Non-hydrolyzable  \n",
       "3  Non-hydrolyzable  \n",
       "4      Hydrolyzable  "
      ]
     },
     "execution_count": 50,
     "metadata": {},
     "output_type": "execute_result"
    }
   ],
   "source": [
    "data_combine.head()"
   ]
  },
  {
   "cell_type": "code",
   "execution_count": 51,
   "id": "49fed580",
   "metadata": {},
   "outputs": [
    {
     "name": "stdout",
     "output_type": "stream",
     "text": [
      "/home/sunny/Plastic final analysis /after kinshuk /reanalysis before submission 28 feb\n"
     ]
    }
   ],
   "source": [
    "cd ../reanalysis\\ before\\ submission\\ 28\\ feb"
   ]
  },
  {
   "cell_type": "code",
   "execution_count": 52,
   "id": "449b01d8",
   "metadata": {
    "collapsed": true
   },
   "outputs": [
    {
     "ename": "TypeError",
     "evalue": "'value' must be an instance of str or bytes, not a float",
     "output_type": "error",
     "traceback": [
      "\u001b[0;31m---------------------------------------------------------------------------\u001b[0m",
      "\u001b[0;31mTypeError\u001b[0m                                 Traceback (most recent call last)",
      "\u001b[0;32m<ipython-input-52-97993e504e1e>\u001b[0m in \u001b[0;36m<module>\u001b[0;34m\u001b[0m\n\u001b[1;32m      2\u001b[0m sns.histplot(data_combine, x=\"Year\", hue=\"Plastic class\", multiple=\"stack\",\n\u001b[1;32m      3\u001b[0m              \u001b[0medgecolor\u001b[0m\u001b[0;34m=\u001b[0m\u001b[0;34m\".3\"\u001b[0m\u001b[0;34m,\u001b[0m\u001b[0;34m\u001b[0m\u001b[0;34m\u001b[0m\u001b[0m\n\u001b[0;32m----> 4\u001b[0;31m     linewidth=.8,ax=ax)\n\u001b[0m\u001b[1;32m      5\u001b[0m \u001b[0max\u001b[0m\u001b[0;34m.\u001b[0m\u001b[0mset_title\u001b[0m\u001b[0;34m(\u001b[0m\u001b[0;34m' Annual trends of publications for Hydrolyzable and Non-Hydrolyzable plastic types'\u001b[0m\u001b[0;34m,\u001b[0m\u001b[0mfontsize\u001b[0m\u001b[0;34m=\u001b[0m\u001b[0;36m20\u001b[0m\u001b[0;34m)\u001b[0m\u001b[0;34m\u001b[0m\u001b[0;34m\u001b[0m\u001b[0m\n\u001b[1;32m      6\u001b[0m \u001b[0max\u001b[0m\u001b[0;34m.\u001b[0m\u001b[0mset_ylabel\u001b[0m\u001b[0;34m(\u001b[0m\u001b[0;34m'Number of publications'\u001b[0m\u001b[0;34m,\u001b[0m\u001b[0mfontsize\u001b[0m\u001b[0;34m=\u001b[0m\u001b[0;36m14\u001b[0m\u001b[0;34m)\u001b[0m\u001b[0;34m\u001b[0m\u001b[0;34m\u001b[0m\u001b[0m\n",
      "\u001b[0;32m~/anaconda3/lib/python3.7/site-packages/seaborn/distributions.py\u001b[0m in \u001b[0;36mhistplot\u001b[0;34m(data, x, y, hue, weights, stat, bins, binwidth, binrange, discrete, cumulative, common_bins, common_norm, multiple, element, fill, shrink, kde, kde_kws, line_kws, thresh, pthresh, pmax, cbar, cbar_ax, cbar_kws, palette, hue_order, hue_norm, color, log_scale, legend, ax, **kwargs)\u001b[0m\n\u001b[1;32m   1403\u001b[0m \u001b[0;34m\u001b[0m\u001b[0m\n\u001b[1;32m   1404\u001b[0m     \u001b[0;31m# Attach the axes to the plotter, setting up unit conversions\u001b[0m\u001b[0;34m\u001b[0m\u001b[0;34m\u001b[0m\u001b[0;34m\u001b[0m\u001b[0m\n\u001b[0;32m-> 1405\u001b[0;31m     \u001b[0mp\u001b[0m\u001b[0;34m.\u001b[0m\u001b[0m_attach\u001b[0m\u001b[0;34m(\u001b[0m\u001b[0max\u001b[0m\u001b[0;34m,\u001b[0m \u001b[0mlog_scale\u001b[0m\u001b[0;34m=\u001b[0m\u001b[0mlog_scale\u001b[0m\u001b[0;34m)\u001b[0m\u001b[0;34m\u001b[0m\u001b[0;34m\u001b[0m\u001b[0m\n\u001b[0m\u001b[1;32m   1406\u001b[0m \u001b[0;34m\u001b[0m\u001b[0m\n\u001b[1;32m   1407\u001b[0m     \u001b[0;31m# Default to discrete bins for categorical variables\u001b[0m\u001b[0;34m\u001b[0m\u001b[0;34m\u001b[0m\u001b[0;34m\u001b[0m\u001b[0m\n",
      "\u001b[0;32m~/anaconda3/lib/python3.7/site-packages/seaborn/_core.py\u001b[0m in \u001b[0;36m_attach\u001b[0;34m(self, obj, allowed_types, log_scale)\u001b[0m\n\u001b[1;32m   1114\u001b[0m                 \u001b[0;32mif\u001b[0m \u001b[0mvar_type\u001b[0m \u001b[0;34m==\u001b[0m \u001b[0;34m\"categorical\"\u001b[0m\u001b[0;34m:\u001b[0m\u001b[0;34m\u001b[0m\u001b[0;34m\u001b[0m\u001b[0m\n\u001b[1;32m   1115\u001b[0m                     \u001b[0mseed_data\u001b[0m \u001b[0;34m=\u001b[0m \u001b[0mcategorical_order\u001b[0m\u001b[0;34m(\u001b[0m\u001b[0mseed_data\u001b[0m\u001b[0;34m)\u001b[0m\u001b[0;34m\u001b[0m\u001b[0;34m\u001b[0m\u001b[0m\n\u001b[0;32m-> 1116\u001b[0;31m                 \u001b[0maxis\u001b[0m\u001b[0;34m.\u001b[0m\u001b[0mupdate_units\u001b[0m\u001b[0;34m(\u001b[0m\u001b[0mseed_data\u001b[0m\u001b[0;34m)\u001b[0m\u001b[0;34m\u001b[0m\u001b[0;34m\u001b[0m\u001b[0m\n\u001b[0m\u001b[1;32m   1117\u001b[0m \u001b[0;34m\u001b[0m\u001b[0m\n\u001b[1;32m   1118\u001b[0m         \u001b[0;31m# For categorical y, we want the \"first\" level to be at the top of the axis\u001b[0m\u001b[0;34m\u001b[0m\u001b[0;34m\u001b[0m\u001b[0;34m\u001b[0m\u001b[0m\n",
      "\u001b[0;32m~/anaconda3/lib/python3.7/site-packages/matplotlib/axis.py\u001b[0m in \u001b[0;36mupdate_units\u001b[0;34m(self, data)\u001b[0m\n\u001b[1;32m   1441\u001b[0m         \u001b[0mneednew\u001b[0m \u001b[0;34m=\u001b[0m \u001b[0mself\u001b[0m\u001b[0;34m.\u001b[0m\u001b[0mconverter\u001b[0m \u001b[0;34m!=\u001b[0m \u001b[0mconverter\u001b[0m\u001b[0;34m\u001b[0m\u001b[0;34m\u001b[0m\u001b[0m\n\u001b[1;32m   1442\u001b[0m         \u001b[0mself\u001b[0m\u001b[0;34m.\u001b[0m\u001b[0mconverter\u001b[0m \u001b[0;34m=\u001b[0m \u001b[0mconverter\u001b[0m\u001b[0;34m\u001b[0m\u001b[0;34m\u001b[0m\u001b[0m\n\u001b[0;32m-> 1443\u001b[0;31m         \u001b[0mdefault\u001b[0m \u001b[0;34m=\u001b[0m \u001b[0mself\u001b[0m\u001b[0;34m.\u001b[0m\u001b[0mconverter\u001b[0m\u001b[0;34m.\u001b[0m\u001b[0mdefault_units\u001b[0m\u001b[0;34m(\u001b[0m\u001b[0mdata\u001b[0m\u001b[0;34m,\u001b[0m \u001b[0mself\u001b[0m\u001b[0;34m)\u001b[0m\u001b[0;34m\u001b[0m\u001b[0;34m\u001b[0m\u001b[0m\n\u001b[0m\u001b[1;32m   1444\u001b[0m         \u001b[0;32mif\u001b[0m \u001b[0mdefault\u001b[0m \u001b[0;32mis\u001b[0m \u001b[0;32mnot\u001b[0m \u001b[0;32mNone\u001b[0m \u001b[0;32mand\u001b[0m \u001b[0mself\u001b[0m\u001b[0;34m.\u001b[0m\u001b[0munits\u001b[0m \u001b[0;32mis\u001b[0m \u001b[0;32mNone\u001b[0m\u001b[0;34m:\u001b[0m\u001b[0;34m\u001b[0m\u001b[0;34m\u001b[0m\u001b[0m\n\u001b[1;32m   1445\u001b[0m             \u001b[0mself\u001b[0m\u001b[0;34m.\u001b[0m\u001b[0mset_units\u001b[0m\u001b[0;34m(\u001b[0m\u001b[0mdefault\u001b[0m\u001b[0;34m)\u001b[0m\u001b[0;34m\u001b[0m\u001b[0;34m\u001b[0m\u001b[0m\n",
      "\u001b[0;32m~/anaconda3/lib/python3.7/site-packages/matplotlib/category.py\u001b[0m in \u001b[0;36mdefault_units\u001b[0;34m(data, axis)\u001b[0m\n\u001b[1;32m    107\u001b[0m         \u001b[0;31m# the conversion call stack is default_units -> axis_info -> convert\u001b[0m\u001b[0;34m\u001b[0m\u001b[0;34m\u001b[0m\u001b[0;34m\u001b[0m\u001b[0m\n\u001b[1;32m    108\u001b[0m         \u001b[0;32mif\u001b[0m \u001b[0maxis\u001b[0m\u001b[0;34m.\u001b[0m\u001b[0munits\u001b[0m \u001b[0;32mis\u001b[0m \u001b[0;32mNone\u001b[0m\u001b[0;34m:\u001b[0m\u001b[0;34m\u001b[0m\u001b[0;34m\u001b[0m\u001b[0m\n\u001b[0;32m--> 109\u001b[0;31m             \u001b[0maxis\u001b[0m\u001b[0;34m.\u001b[0m\u001b[0mset_units\u001b[0m\u001b[0;34m(\u001b[0m\u001b[0mUnitData\u001b[0m\u001b[0;34m(\u001b[0m\u001b[0mdata\u001b[0m\u001b[0;34m)\u001b[0m\u001b[0;34m)\u001b[0m\u001b[0;34m\u001b[0m\u001b[0;34m\u001b[0m\u001b[0m\n\u001b[0m\u001b[1;32m    110\u001b[0m         \u001b[0;32melse\u001b[0m\u001b[0;34m:\u001b[0m\u001b[0;34m\u001b[0m\u001b[0;34m\u001b[0m\u001b[0m\n\u001b[1;32m    111\u001b[0m             \u001b[0maxis\u001b[0m\u001b[0;34m.\u001b[0m\u001b[0munits\u001b[0m\u001b[0;34m.\u001b[0m\u001b[0mupdate\u001b[0m\u001b[0;34m(\u001b[0m\u001b[0mdata\u001b[0m\u001b[0;34m)\u001b[0m\u001b[0;34m\u001b[0m\u001b[0;34m\u001b[0m\u001b[0m\n",
      "\u001b[0;32m~/anaconda3/lib/python3.7/site-packages/matplotlib/category.py\u001b[0m in \u001b[0;36m__init__\u001b[0;34m(self, data)\u001b[0m\n\u001b[1;32m    183\u001b[0m         \u001b[0mself\u001b[0m\u001b[0;34m.\u001b[0m\u001b[0m_counter\u001b[0m \u001b[0;34m=\u001b[0m \u001b[0mitertools\u001b[0m\u001b[0;34m.\u001b[0m\u001b[0mcount\u001b[0m\u001b[0;34m(\u001b[0m\u001b[0;34m)\u001b[0m\u001b[0;34m\u001b[0m\u001b[0;34m\u001b[0m\u001b[0m\n\u001b[1;32m    184\u001b[0m         \u001b[0;32mif\u001b[0m \u001b[0mdata\u001b[0m \u001b[0;32mis\u001b[0m \u001b[0;32mnot\u001b[0m \u001b[0;32mNone\u001b[0m\u001b[0;34m:\u001b[0m\u001b[0;34m\u001b[0m\u001b[0;34m\u001b[0m\u001b[0m\n\u001b[0;32m--> 185\u001b[0;31m             \u001b[0mself\u001b[0m\u001b[0;34m.\u001b[0m\u001b[0mupdate\u001b[0m\u001b[0;34m(\u001b[0m\u001b[0mdata\u001b[0m\u001b[0;34m)\u001b[0m\u001b[0;34m\u001b[0m\u001b[0;34m\u001b[0m\u001b[0m\n\u001b[0m\u001b[1;32m    186\u001b[0m \u001b[0;34m\u001b[0m\u001b[0m\n\u001b[1;32m    187\u001b[0m     \u001b[0;34m@\u001b[0m\u001b[0mstaticmethod\u001b[0m\u001b[0;34m\u001b[0m\u001b[0;34m\u001b[0m\u001b[0m\n",
      "\u001b[0;32m~/anaconda3/lib/python3.7/site-packages/matplotlib/category.py\u001b[0m in \u001b[0;36mupdate\u001b[0;34m(self, data)\u001b[0m\n\u001b[1;32m    218\u001b[0m         \u001b[0;32mfor\u001b[0m \u001b[0mval\u001b[0m \u001b[0;32min\u001b[0m \u001b[0mOrderedDict\u001b[0m\u001b[0;34m.\u001b[0m\u001b[0mfromkeys\u001b[0m\u001b[0;34m(\u001b[0m\u001b[0mdata\u001b[0m\u001b[0;34m)\u001b[0m\u001b[0;34m:\u001b[0m\u001b[0;34m\u001b[0m\u001b[0;34m\u001b[0m\u001b[0m\n\u001b[1;32m    219\u001b[0m             \u001b[0;31m# OrderedDict just iterates over unique values in data.\u001b[0m\u001b[0;34m\u001b[0m\u001b[0;34m\u001b[0m\u001b[0;34m\u001b[0m\u001b[0m\n\u001b[0;32m--> 220\u001b[0;31m             \u001b[0m_api\u001b[0m\u001b[0;34m.\u001b[0m\u001b[0mcheck_isinstance\u001b[0m\u001b[0;34m(\u001b[0m\u001b[0;34m(\u001b[0m\u001b[0mstr\u001b[0m\u001b[0;34m,\u001b[0m \u001b[0mbytes\u001b[0m\u001b[0;34m)\u001b[0m\u001b[0;34m,\u001b[0m \u001b[0mvalue\u001b[0m\u001b[0;34m=\u001b[0m\u001b[0mval\u001b[0m\u001b[0;34m)\u001b[0m\u001b[0;34m\u001b[0m\u001b[0;34m\u001b[0m\u001b[0m\n\u001b[0m\u001b[1;32m    221\u001b[0m             \u001b[0;32mif\u001b[0m \u001b[0mconvertible\u001b[0m\u001b[0;34m:\u001b[0m\u001b[0;34m\u001b[0m\u001b[0;34m\u001b[0m\u001b[0m\n\u001b[1;32m    222\u001b[0m                 \u001b[0;31m# this will only be called so long as convertible is True.\u001b[0m\u001b[0;34m\u001b[0m\u001b[0;34m\u001b[0m\u001b[0;34m\u001b[0m\u001b[0m\n",
      "\u001b[0;32m~/anaconda3/lib/python3.7/site-packages/matplotlib/_api/__init__.py\u001b[0m in \u001b[0;36mcheck_isinstance\u001b[0;34m(_types, **kwargs)\u001b[0m\n\u001b[1;32m     95\u001b[0m                     \u001b[0;34m\", \"\u001b[0m\u001b[0;34m.\u001b[0m\u001b[0mjoin\u001b[0m\u001b[0;34m(\u001b[0m\u001b[0mnames\u001b[0m\u001b[0;34m[\u001b[0m\u001b[0;34m:\u001b[0m\u001b[0;34m-\u001b[0m\u001b[0;36m1\u001b[0m\u001b[0;34m]\u001b[0m\u001b[0;34m)\u001b[0m \u001b[0;34m+\u001b[0m \u001b[0;34m\" or \"\u001b[0m \u001b[0;34m+\u001b[0m \u001b[0mnames\u001b[0m\u001b[0;34m[\u001b[0m\u001b[0;34m-\u001b[0m\u001b[0;36m1\u001b[0m\u001b[0;34m]\u001b[0m\u001b[0;34m\u001b[0m\u001b[0;34m\u001b[0m\u001b[0m\n\u001b[1;32m     96\u001b[0m                     \u001b[0;32mif\u001b[0m \u001b[0mlen\u001b[0m\u001b[0;34m(\u001b[0m\u001b[0mnames\u001b[0m\u001b[0;34m)\u001b[0m \u001b[0;34m>\u001b[0m \u001b[0;36m1\u001b[0m \u001b[0;32melse\u001b[0m \u001b[0mnames\u001b[0m\u001b[0;34m[\u001b[0m\u001b[0;36m0\u001b[0m\u001b[0;34m]\u001b[0m\u001b[0;34m,\u001b[0m\u001b[0;34m\u001b[0m\u001b[0;34m\u001b[0m\u001b[0m\n\u001b[0;32m---> 97\u001b[0;31m                     type_name(type(v))))\n\u001b[0m\u001b[1;32m     98\u001b[0m \u001b[0;34m\u001b[0m\u001b[0m\n\u001b[1;32m     99\u001b[0m \u001b[0;34m\u001b[0m\u001b[0m\n",
      "\u001b[0;31mTypeError\u001b[0m: 'value' must be an instance of str or bytes, not a float"
     ]
    },
    {
     "data": {
      "image/png": "[encoded data removed]",
      "text/plain": [
       "<Figure size 1080x720 with 1 Axes>"
      ]
     },
     "metadata": {
      "needs_background": "light"
     },
     "output_type": "display_data"
    }
   ],
   "source": [
    "f, ax = plt.subplots(figsize=(15, 10))\n",
    "sns.histplot(data_combine, x=\"Year\", hue=\"Plastic class\", multiple=\"stack\",\n",
    "             edgecolor=\".3\",\n",
    "    linewidth=.8,ax=ax)\n",
    "ax.set_title(' Annual trends of publications for Hydrolyzable and Non-Hydrolyzable plastic types',fontsize=20)\n",
    "ax.set_ylabel('Number of publications',fontsize=14)\n",
    "ax.set_xlabel('Years',fontsize=14)\n",
    "ax.legend(['Hydrolyzable','Non-hydrolyzable'], \n",
    "           prop = {'size' : 14}, \n",
    "           loc = 'upper left', shadow = True,\n",
    "           )\n",
    "f.savefig('Annual_publication_trend.png')\n",
    "ax.set_xticks([i for i in range(1990,2022,2)])"
   ]
  },
  {
   "cell_type": "code",
   "execution_count": 53,
   "id": "39b74176",
   "metadata": {},
   "outputs": [
    {
     "ename": "ValueError",
     "evalue": "invalid literal for int() with base 10: '[2010.0]'",
     "output_type": "error",
     "traceback": [
      "\u001b[0;31m---------------------------------------------------------------------------\u001b[0m",
      "\u001b[0;31mValueError\u001b[0m                                Traceback (most recent call last)",
      "\u001b[0;32m<ipython-input-53-a0c1ba20597f>\u001b[0m in \u001b[0;36m<module>\u001b[0;34m\u001b[0m\n\u001b[0;32m----> 1\u001b[0;31m \u001b[0mdata_combine\u001b[0m\u001b[0;34m[\u001b[0m\u001b[0;34m'Year'\u001b[0m\u001b[0;34m]\u001b[0m\u001b[0;34m=\u001b[0m\u001b[0;34m[\u001b[0m\u001b[0mint\u001b[0m\u001b[0;34m(\u001b[0m\u001b[0mi\u001b[0m\u001b[0;34m)\u001b[0m \u001b[0;32mfor\u001b[0m \u001b[0mi\u001b[0m \u001b[0;32min\u001b[0m \u001b[0mdata_combine\u001b[0m\u001b[0;34m[\u001b[0m\u001b[0;34m'Year'\u001b[0m\u001b[0;34m]\u001b[0m\u001b[0;34m]\u001b[0m\u001b[0;34m\u001b[0m\u001b[0;34m\u001b[0m\u001b[0m\n\u001b[0m",
      "\u001b[0;32m<ipython-input-53-a0c1ba20597f>\u001b[0m in \u001b[0;36m<listcomp>\u001b[0;34m(.0)\u001b[0m\n\u001b[0;32m----> 1\u001b[0;31m \u001b[0mdata_combine\u001b[0m\u001b[0;34m[\u001b[0m\u001b[0;34m'Year'\u001b[0m\u001b[0;34m]\u001b[0m\u001b[0;34m=\u001b[0m\u001b[0;34m[\u001b[0m\u001b[0mint\u001b[0m\u001b[0;34m(\u001b[0m\u001b[0mi\u001b[0m\u001b[0;34m)\u001b[0m \u001b[0;32mfor\u001b[0m \u001b[0mi\u001b[0m \u001b[0;32min\u001b[0m \u001b[0mdata_combine\u001b[0m\u001b[0;34m[\u001b[0m\u001b[0;34m'Year'\u001b[0m\u001b[0;34m]\u001b[0m\u001b[0;34m]\u001b[0m\u001b[0;34m\u001b[0m\u001b[0;34m\u001b[0m\u001b[0m\n\u001b[0m",
      "\u001b[0;31mValueError\u001b[0m: invalid literal for int() with base 10: '[2010.0]'"
     ]
    }
   ],
   "source": [
    "data_combine['Year']=[int(i) for i in data_combine['Year']]"
   ]
  },
  {
   "cell_type": "code",
   "execution_count": 54,
   "id": "42fdab47",
   "metadata": {},
   "outputs": [
    {
     "data": {
      "text/plain": [
       "0      [2010.0]\n",
       "1      [2019.0]\n",
       "2      [1990.0]\n",
       "3      [1998.0]\n",
       "4      [2015.0]\n",
       "         ...   \n",
       "114      2016.0\n",
       "115      2016.0\n",
       "116      2018.0\n",
       "117      2018.0\n",
       "118      2018.0\n",
       "Name: Year, Length: 591, dtype: object"
      ]
     },
     "execution_count": 54,
     "metadata": {},
     "output_type": "execute_result"
    }
   ],
   "source": [
    "data_combine['Year']"
   ]
  },
  {
   "cell_type": "code",
   "execution_count": 64,
   "id": "d9dc3866",
   "metadata": {},
   "outputs": [],
   "source": [
    "val=[]\n",
    "for i in data_combine.Year:\n",
    "    if '[' in str(i):\n",
    "        val.append(i[i.find('[')+1:i.find('.')])\n",
    "    else:\n",
    "        val.append(i)"
   ]
  },
  {
   "cell_type": "code",
   "execution_count": 65,
   "id": "3e37b301",
   "metadata": {},
   "outputs": [
    {
     "data": {
      "text/plain": [
       "591"
      ]
     },
     "execution_count": 65,
     "metadata": {},
     "output_type": "execute_result"
    }
   ],
   "source": [
    "len(val)"
   ]
  },
  {
   "cell_type": "code",
   "execution_count": 66,
   "id": "f0fa64c6",
   "metadata": {},
   "outputs": [],
   "source": [
    "data_combine['Year']=val"
   ]
  },
  {
   "cell_type": "code",
   "execution_count": 67,
   "id": "4f1fa244",
   "metadata": {},
   "outputs": [],
   "source": [
    "data_combine['Year']=[int(i) for i in data_combine['Year']]"
   ]
  },
  {
   "cell_type": "code",
   "execution_count": 75,
   "id": "7696bbbc",
   "metadata": {},
   "outputs": [
    {
     "name": "stderr",
     "output_type": "stream",
     "text": [
      "The PostScript backend does not support transparency; partially transparent artists will be rendered opaque.\n",
      "The PostScript backend does not support transparency; partially transparent artists will be rendered opaque.\n",
      "The PostScript backend does not support transparency; partially transparent artists will be rendered opaque.\n",
      "The PostScript backend does not support transparency; partially transparent artists will be rendered opaque.\n",
      "The PostScript backend does not support transparency; partially transparent artists will be rendered opaque.\n",
      "The PostScript backend does not support transparency; partially transparent artists will be rendered opaque.\n",
      "The PostScript backend does not support transparency; partially transparent artists will be rendered opaque.\n",
      "The PostScript backend does not support transparency; partially transparent artists will be rendered opaque.\n",
      "The PostScript backend does not support transparency; partially transparent artists will be rendered opaque.\n",
      "The PostScript backend does not support transparency; partially transparent artists will be rendered opaque.\n",
      "The PostScript backend does not support transparency; partially transparent artists will be rendered opaque.\n",
      "The PostScript backend does not support transparency; partially transparent artists will be rendered opaque.\n",
      "The PostScript backend does not support transparency; partially transparent artists will be rendered opaque.\n",
      "The PostScript backend does not support transparency; partially transparent artists will be rendered opaque.\n",
      "The PostScript backend does not support transparency; partially transparent artists will be rendered opaque.\n",
      "The PostScript backend does not support transparency; partially transparent artists will be rendered opaque.\n",
      "The PostScript backend does not support transparency; partially transparent artists will be rendered opaque.\n",
      "The PostScript backend does not support transparency; partially transparent artists will be rendered opaque.\n",
      "The PostScript backend does not support transparency; partially transparent artists will be rendered opaque.\n",
      "The PostScript backend does not support transparency; partially transparent artists will be rendered opaque.\n",
      "The PostScript backend does not support transparency; partially transparent artists will be rendered opaque.\n",
      "The PostScript backend does not support transparency; partially transparent artists will be rendered opaque.\n",
      "The PostScript backend does not support transparency; partially transparent artists will be rendered opaque.\n",
      "The PostScript backend does not support transparency; partially transparent artists will be rendered opaque.\n",
      "The PostScript backend does not support transparency; partially transparent artists will be rendered opaque.\n",
      "The PostScript backend does not support transparency; partially transparent artists will be rendered opaque.\n",
      "The PostScript backend does not support transparency; partially transparent artists will be rendered opaque.\n",
      "The PostScript backend does not support transparency; partially transparent artists will be rendered opaque.\n",
      "The PostScript backend does not support transparency; partially transparent artists will be rendered opaque.\n",
      "The PostScript backend does not support transparency; partially transparent artists will be rendered opaque.\n",
      "The PostScript backend does not support transparency; partially transparent artists will be rendered opaque.\n",
      "The PostScript backend does not support transparency; partially transparent artists will be rendered opaque.\n",
      "The PostScript backend does not support transparency; partially transparent artists will be rendered opaque.\n",
      "The PostScript backend does not support transparency; partially transparent artists will be rendered opaque.\n",
      "The PostScript backend does not support transparency; partially transparent artists will be rendered opaque.\n",
      "The PostScript backend does not support transparency; partially transparent artists will be rendered opaque.\n",
      "The PostScript backend does not support transparency; partially transparent artists will be rendered opaque.\n",
      "The PostScript backend does not support transparency; partially transparent artists will be rendered opaque.\n"
     ]
    },
    {
     "data": {
      "image/png": "[encoded data removed]",
      "text/plain": [
       "<Figure size 1080x720 with 1 Axes>"
      ]
     },
     "metadata": {
      "needs_background": "light"
     },
     "output_type": "display_data"
    }
   ],
   "source": [
    "f, ax = plt.subplots(figsize=(15, 10))\n",
    "sns.histplot(data_combine, x=\"Year\", hue=\"Plastic class\", multiple=\"stack\",\n",
    "             edgecolor=\".3\",\n",
    "    linewidth=.8,ax=ax)\n",
    "ax.set_title(' Annual trends of publications for Hydrolyzable and Non-Hydrolyzable plastic types',fontsize=20)\n",
    "ax.set_ylabel('Number of publications',fontsize=18)\n",
    "ax.set_xlabel('Years',fontsize=18)\n",
    "ax.legend(['Hydrolyzable','Non-hydrolyzable'], \n",
    "           prop = {'size' : 14}, \n",
    "           loc = 'upper left', shadow = True,\n",
    "           )\n",
    "f.savefig('Annual_publication_trend.png')\n",
    "ax.set_xticks([i for i in range(1986,2022,2)],)\n",
    "plt.xticks(fontsize=14,rotation=35)\n",
    "plt.yticks(fontsize=14)\n",
    "plt.savefig(\"year_process_plot.eps\")\n",
    "plt.show()"
   ]
  },
  {
   "cell_type": "code",
   "execution_count": null,
   "id": "96319b6a",
   "metadata": {},
   "outputs": [],
   "source": []
  }
 ],
 "metadata": {
  "kernelspec": {
   "display_name": "Python 3",
   "language": "python",
   "name": "python3"
  },
  "language_info": {
   "codemirror_mode": {
    "name": "ipython",
    "version": 3
   },
   "file_extension": ".py",
   "mimetype": "text/x-python",
   "name": "python",
   "nbconvert_exporter": "python",
   "pygments_lexer": "ipython3",
   "version": "3.7.7"
  }
 },
 "nbformat": 4,
 "nbformat_minor": 5
}
